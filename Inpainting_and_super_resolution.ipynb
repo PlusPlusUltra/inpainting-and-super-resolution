{
 "cells": [
  {
   "cell_type": "markdown",
   "metadata": {
    "id": "dV_gW5xqZs9i"
   },
   "source": [
    "Part 1: Inpainting"
   ]
  },
  {
   "cell_type": "markdown",
   "metadata": {
    "id": "xbxBz2uUZeGJ"
   },
   "source": [
    "Importing and dowloading libraries and datasets"
   ]
  },
  {
   "cell_type": "code",
   "execution_count": 1,
   "metadata": {
    "id": "05s1q-hFIbNi"
   },
   "outputs": [],
   "source": [
    "import tensorflow as tf"
   ]
  },
  {
   "cell_type": "code",
   "execution_count": 5,
   "metadata": {
    "id": "-aDBK_ZoKZUp"
   },
   "outputs": [],
   "source": [
    "import tensorflow_datasets as tfds\n",
    "from tensorflow.keras import layers, optimizers, metrics, losses, Model\n",
    "import numpy as np\n",
    "import matplotlib.pyplot as plt\n",
    "import pandas as pd\n",
    "import numpy as np\n",
    "import random\n",
    "import math\n",
    "import time\n",
    "#import tensorflow_hub as hub"
   ]
  },
  {
   "cell_type": "code",
   "execution_count": 3,
   "metadata": {
    "colab": {
     "base_uri": "https://localhost:8080/",
     "height": 148,
     "referenced_widgets": [
      "08ce9826caa14c6daa2908f883c582eb",
      "b05545b4d1ee4762acc1daee892c947e",
      "369b820edc6146bfb9706096da3dbae0",
      "acae4637a4f5471196debb60bc336d2a",
      "d538d6ec91484b8e8c3fb36f3f064cc1",
      "e91f1155a9fa440d88c7cf39505cd7ed",
      "8c22a799d34842bab68e9ef07d603539",
      "5aeffbfa240b42948ecba8274127086f",
      "ceaf3b3e94e947249a21e015c83fe981",
      "10a41d40af4c402382e75aca0ea32262",
      "17f53303616847389e991ff49862fff0",
      "11d1ad1f15934dd6ba0927eded9eb482",
      "9f10b5496a37428ab7c29e49a027119f",
      "230b7219f02e4d0eb99c3d47b24affc2",
      "72d45e74d58c48e2b05b1c07ec6ee22b",
      "2a07e55c2cf34e538e1f058fbfa37e6d",
      "8692238db4f94bb2a00def4eb14c0796",
      "8ec56426dc994965ac26c3433cf6432f",
      "3714f949534a404c86bcea465e6d915b",
      "2be9741201fc4f85bc07d1dc6ba978e5",
      "66901d34b24a4419a5fea4634a8988dd",
      "d559608c2f214b549abed7de617678a1",
      "fd7f3a878ce041578062c0287db5e420",
      "fad561880d1e4e36a4ddb86b6ec979cd",
      "c476d00aa0d340539615f2c510cd1d04",
      "a794eb8e75624085a06ffdae505f50c8",
      "5af2edc636114b749f31932edf58dafe",
      "f813354ab9fe4347ac9affe205176950",
      "0280a9b6257b4abea215ce3ead4dfee2",
      "f3b59d97ac4d47b0be50fb6fe8c3ac08",
      "0f1b6e35870745dca8c69a55e20479f4",
      "a0e1033bb09a4ac68b26ab728fd18865",
      "566e0d9be1234984810e38981a9065b7",
      "8e371822c5a942fc85cbcdb8af7f2c99",
      "1c971da415d14da48385796643d21a1f",
      "949f5a2ed4fd4c0c85f673b118c98134",
      "e82882d11c1646fea4bc7a9dbf037356",
      "2e468709a0d242d3abd298a2251fd1f1",
      "428a30ceff55484b980e7f86d43601da",
      "084bf87cd4f9453c87857597c4d1fccb",
      "34984137791d4482aeafbb84b5d2609e",
      "17ccde9343494245913fd14e8da6f441",
      "97403b480d5c4b8f8f637c74b91eb284",
      "3eb4a86ca0b0438e907449f669ded52d",
      "85b0a5799de9441995ac7a12542a34ea",
      "ba166ed9c59a432d9cdcc1d91ddb7b1a",
      "3caf3b720c81480e8df1175a95532101",
      "64aa2fcbf1b04b8781eb2f9eb81ea1c6",
      "1c797d2175ec491b85995a7a31c1918b",
      "73a4a895b1ab481eb705c9b41dd2e4fd",
      "beb400823b7341f282af5a132b4ab016",
      "dbdd9582ca0c4b59acbd8b76c34e36e1",
      "55ae030d2c9946a1be7dbfb25d0b8c0e",
      "b39f15e2d701411fa48ebc0a8780fdcb",
      "f0064eaf7e594c178ed07793766341b0",
      "920551c01360442f8689fbba6531867d",
      "a8e5426512ce4a57916979fcfcf6a641",
      "e9681650247f490fae9d5f582a96d9e5",
      "6da372f6688e4cb48b95a02fec82bfd7",
      "ce01118d3cf545f9b1f78555ded3af48",
      "e757680a5b5545d88bd4a0ce33f16848",
      "3ac6b7f9994346a8a85e96a12eb0dfdd",
      "1392f59a3f094d3aa41445951462b3e3",
      "bef7dc1a14ad4c4097b6579ecff16680",
      "6de6ade38dd54a6ebd43aa3b737b7223",
      "81a93e4867544638931b48c4d5970e0d"
     ]
    },
    "id": "mGS1O210K2vY",
    "outputId": "5e1f66da-508a-47d8-85da-122fb9d48788"
   },
   "outputs": [
    {
     "name": "stdout",
     "output_type": "stream",
     "text": [
      "\u001b[1mDownloading and preparing dataset 655.70 MiB (download: 655.70 MiB, generated: 650.87 MiB, total: 1.28 GiB) to ~/tensorflow_datasets/imagenet_a/0.1.0...\u001b[0m\n"
     ]
    },
    {
     "data": {
      "application/vnd.jupyter.widget-view+json": {
       "model_id": "08ce9826caa14c6daa2908f883c582eb",
       "version_major": 2,
       "version_minor": 0
      },
      "text/plain": [
       "Dl Completed...: 0 url [00:00, ? url/s]"
      ]
     },
     "metadata": {},
     "output_type": "display_data"
    },
    {
     "data": {
      "application/vnd.jupyter.widget-view+json": {
       "model_id": "11d1ad1f15934dd6ba0927eded9eb482",
       "version_major": 2,
       "version_minor": 0
      },
      "text/plain": [
       "Dl Size...: 0 MiB [00:00, ? MiB/s]"
      ]
     },
     "metadata": {},
     "output_type": "display_data"
    },
    {
     "data": {
      "application/vnd.jupyter.widget-view+json": {
       "model_id": "fd7f3a878ce041578062c0287db5e420",
       "version_major": 2,
       "version_minor": 0
      },
      "text/plain": [
       "Extraction completed...: 0 file [00:00, ? file/s]"
      ]
     },
     "metadata": {},
     "output_type": "display_data"
    },
    {
     "data": {
      "application/vnd.jupyter.widget-view+json": {
       "model_id": "8e371822c5a942fc85cbcdb8af7f2c99",
       "version_major": 2,
       "version_minor": 0
      },
      "text/plain": [
       "Generating splits...:   0%|          | 0/1 [00:00<?, ? splits/s]"
      ]
     },
     "metadata": {},
     "output_type": "display_data"
    },
    {
     "data": {
      "application/vnd.jupyter.widget-view+json": {
       "model_id": "85b0a5799de9441995ac7a12542a34ea",
       "version_major": 2,
       "version_minor": 0
      },
      "text/plain": [
       "Generating test examples...:   0%|          | 0/7500 [00:00<?, ? examples/s]"
      ]
     },
     "metadata": {},
     "output_type": "display_data"
    },
    {
     "data": {
      "application/vnd.jupyter.widget-view+json": {
       "model_id": "920551c01360442f8689fbba6531867d",
       "version_major": 2,
       "version_minor": 0
      },
      "text/plain": [
       "Shuffling ~/tensorflow_datasets/imagenet_a/0.1.0.incompleteEWVWVO/imagenet_a-test.tfrecord*...:   0%|         …"
      ]
     },
     "metadata": {},
     "output_type": "display_data"
    },
    {
     "name": "stdout",
     "output_type": "stream",
     "text": [
      "\u001b[1mDataset imagenet_a downloaded and prepared to ~/tensorflow_datasets/imagenet_a/0.1.0. Subsequent calls will reuse this data.\u001b[0m\n"
     ]
    }
   ],
   "source": [
    "train_1 = tfds.load('imagenet_a')"
   ]
  },
  {
   "cell_type": "code",
   "execution_count": 4,
   "metadata": {
    "id": "RKioVacGN1VI"
   },
   "outputs": [],
   "source": [
    "#https://image-net.org/data/ILSVRC/2012/ILSVRC2012_devkit_t12.tar.gz\n",
    "#https://image-net.org/data/ILSVRC/2012/ILSVRC2012_devkit_t3.tar.gz\n",
    "#import requests\n",
    "#t = requests.get(\"http://www.image-net.org/challenges/LSVRC/2012/downloads\", allow_redirects=True).text\n",
    "#t = t.split(\"/ILSVRC2012_devkit_t12.tar.gz\")[0].split('\"')[-1]\n",
    "#!sed -i 's/nonpub/{t}/g' tf-models/inception/inception/data/download_imagenet.sh "
   ]
  },
  {
   "cell_type": "markdown",
   "metadata": {
    "id": "MVRiUWUaZnBn"
   },
   "source": [
    "Preprocessing datasets"
   ]
  },
  {
   "cell_type": "code",
   "execution_count": 5,
   "metadata": {
    "id": "6b5SydlZccwi"
   },
   "outputs": [],
   "source": [
    "train = tfds.load('imagenet_a', split = 'test[20%:100%]').map(lambda l: l['image'])\n",
    "test = tfds.load('imagenet_a', split = 'test[0%:20%]').map(lambda l: l['image'])"
   ]
  },
  {
   "cell_type": "code",
   "execution_count": 6,
   "metadata": {
    "id": "UpQmMACOUTFR"
   },
   "outputs": [],
   "source": [
    "train = train.map(lambda l: tf.cast(tf.image.resize_with_pad(l,128,128), tf.float64))\n",
    "test = test.map(lambda l: tf.cast(tf.image.resize_with_pad(l,128,128),tf.float64))"
   ]
  },
  {
   "cell_type": "code",
   "execution_count": 7,
   "metadata": {
    "id": "3CLD8VEdYo_L"
   },
   "outputs": [],
   "source": [
    "train = train.map(lambda l: l/255)\n",
    "test = test.map(lambda l: l/255)"
   ]
  },
  {
   "cell_type": "code",
   "execution_count": 8,
   "metadata": {
    "id": "6UytkimJt2oL"
   },
   "outputs": [],
   "source": [
    "it = iter(train)"
   ]
  },
  {
   "cell_type": "code",
   "execution_count": 9,
   "metadata": {
    "id": "qd_YeY_UbrYA"
   },
   "outputs": [],
   "source": [
    "sample_image = it.next()"
   ]
  },
  {
   "cell_type": "code",
   "execution_count": 10,
   "metadata": {
    "colab": {
     "base_uri": "https://localhost:8080/",
     "height": 285
    },
    "id": "2hBi4U6GUcFR",
    "outputId": "bf5cc76a-e343-4c5e-9e99-ae132e4c1fe7"
   },
   "outputs": [
    {
     "data": {
      "text/plain": [
       "<matplotlib.image.AxesImage at 0x7ff8715c36d0>"
      ]
     },
     "execution_count": 10,
     "metadata": {},
     "output_type": "execute_result"
    },
    {
     "data": {
      "image/png": "[encoded data removed]",
      "text/plain": [
       "<Figure size 432x288 with 1 Axes>"
      ]
     },
     "metadata": {
      "needs_background": "light"
     },
     "output_type": "display_data"
    }
   ],
   "source": [
    "plt.imshow(sample_image)"
   ]
  },
  {
   "cell_type": "markdown",
   "metadata": {
    "id": "TMPPtZ3RZr03"
   },
   "source": [
    "Making the denoiser"
   ]
  },
  {
   "cell_type": "code",
   "execution_count": 12,
   "metadata": {
    "id": "pcsc-K4IhQ4_"
   },
   "outputs": [],
   "source": [
    "u_inp = layers.Input(shape=(128,128,3), dtype = tf.float64)"
   ]
  },
  {
   "cell_type": "code",
   "execution_count": 13,
   "metadata": {
    "id": "lhhr63SDhQ4_"
   },
   "outputs": [],
   "source": [
    "#make the encoder and the decoder. Decoder can be downloaded and fine tuned.\n",
    "#I have tried with a decoder I found in a blog post and one I trained myself"
   ]
  },
  {
   "cell_type": "code",
   "execution_count": 14,
   "metadata": {
    "id": "xOZ4nLfzhQ4_"
   },
   "outputs": [],
   "source": [
    "enc_x = layers.Conv2D(64,3, padding = 'same', dtype = tf.float64, activation = 'relu')(u_inp)\n",
    "enc_x = layers.BatchNormalization(epsilon=1e-3, momentum=0.999)(enc_x)\n",
    "enc_x = layers.Conv2D(64,3, padding = 'same', dtype = tf.float64, activation = 'relu')(enc_x)\n",
    "enc_x = layers.BatchNormalization(epsilon=1e-3, momentum=0.999)(enc_x)\n",
    "enc_x = layers.MaxPool2D()(enc_x)\n",
    "enc_x = layers.Conv2D(128,3, padding = 'same', dtype = tf.float64, activation = 'relu')(enc_x)\n",
    "enc_x = layers.BatchNormalization(epsilon=1e-3, momentum=0.999)(enc_x)\n",
    "enc_x = layers.Conv2D(128,3, padding = 'same', dtype = tf.float64, activation = 'relu')(enc_x)\n",
    "enc_x = layers.BatchNormalization(epsilon=1e-3, momentum=0.999)(enc_x)\n",
    "enc_x = layers.MaxPool2D()(enc_x)\n",
    "enc_x = layers.Conv2D(256,3, padding = 'same', dtype = tf.float64, activation = 'relu')(enc_x)\n",
    "enc_x = layers.BatchNormalization(epsilon=1e-3, momentum=0.999)(enc_x)\n",
    "enc_x = layers.Conv2D(256,3, padding = 'same', dtype = tf.float64, activation = 'relu')(enc_x)\n",
    "enc_x = layers.BatchNormalization(epsilon=1e-3, momentum=0.999)(enc_x)\n",
    "enc_x = layers.MaxPool2D()(enc_x)\n",
    "enc_x = layers.Conv2D(512,3, padding = 'same', dtype = tf.float64, activation = 'relu')(enc_x)\n"
   ]
  },
  {
   "cell_type": "code",
   "execution_count": 15,
   "metadata": {
    "colab": {
     "base_uri": "https://localhost:8080/"
    },
    "id": "hJuhe773hQ5A",
    "outputId": "5c5e8adf-248b-4da3-e10d-762b6548a760"
   },
   "outputs": [
    {
     "data": {
      "text/plain": [
       "<KerasTensor: shape=(None, 16, 16, 512) dtype=float64 (created by layer 'conv2d_6')>"
      ]
     },
     "execution_count": 15,
     "metadata": {},
     "output_type": "execute_result"
    }
   ],
   "source": [
    "enc_x"
   ]
  },
  {
   "cell_type": "code",
   "execution_count": 16,
   "metadata": {
    "id": "Otw9Y6YUhQ5A"
   },
   "outputs": [],
   "source": [
    "encoder = Model(inputs=u_inp, outputs=enc_x)"
   ]
  },
  {
   "cell_type": "code",
   "execution_count": 17,
   "metadata": {
    "id": "pGL0cH_khQ5A"
   },
   "outputs": [],
   "source": [
    "dec_input = layers.Input(shape=(8,8,1024), dtype = tf.float64)"
   ]
  },
  {
   "cell_type": "code",
   "execution_count": 18,
   "metadata": {
    "id": "UV_E2qHGhQ5A"
   },
   "outputs": [],
   "source": [
    "\n",
    "dec_x = layers.Conv2D(512,3, padding = 'same', dtype = tf.float64, activation = 'relu')(dec_input)\n",
    "dec_x = layers.Conv2DTranspose(256,(2,2), strides = (2,2))(dec_x)\n",
    "dec_x = layers.Conv2D(256,3, padding = 'same', dtype = tf.float64, activation = 'relu')(dec_x)\n",
    "dec_x = layers.Conv2D(256,3, padding = 'same', dtype = tf.float64, activation = 'relu')(dec_x)\n",
    "dec_x = layers.Conv2DTranspose(128,(2,2), strides = (2,2))(dec_x)\n",
    "dec_x = layers.Conv2D(128,3, padding = 'same', dtype = tf.float64, activation = 'relu')(dec_x)\n",
    "dec_x = layers.Conv2D(128,3, padding = 'same', dtype = tf.float64, activation = 'relu')(dec_x)\n",
    "dec_x = layers.Conv2DTranspose(16,(2,2), strides = (2,2))(dec_x)\n",
    "dec_x = layers.Conv2D(64,3, padding = 'same', dtype = tf.float64, activation = 'relu')(dec_x)\n",
    "dec_x = layers.Conv2D(64,3, padding = 'same', dtype = tf.float64, activation = 'relu')(dec_x)\n",
    "dec_x = layers.Conv2D(3,3, padding = 'same', dtype = tf.float64)(dec_x)\n"
   ]
  },
  {
   "cell_type": "code",
   "execution_count": 19,
   "metadata": {
    "colab": {
     "base_uri": "https://localhost:8080/"
    },
    "id": "Dt1xA8HKhQ5A",
    "outputId": "fe0d3749-db04-4ce8-bc3d-4616e4fef6d3"
   },
   "outputs": [
    {
     "data": {
      "text/plain": [
       "<KerasTensor: shape=(None, 64, 64, 3) dtype=float64 (created by layer 'conv2d_14')>"
      ]
     },
     "execution_count": 19,
     "metadata": {},
     "output_type": "execute_result"
    }
   ],
   "source": [
    "dec_x"
   ]
  },
  {
   "cell_type": "code",
   "execution_count": 20,
   "metadata": {
    "id": "1qW4BU-fhQ5A"
   },
   "outputs": [],
   "source": [
    "decoder = Model(inputs = dec_input, outputs = dec_x)"
   ]
  },
  {
   "cell_type": "code",
   "execution_count": 21,
   "metadata": {
    "id": "uqK1h5CKhQ5B"
   },
   "outputs": [],
   "source": [
    "#to take the pre-trained model:\n",
    "#decoder.load_weights(\"pretrained_checkpoint\")"
   ]
  },
  {
   "cell_type": "code",
   "execution_count": 22,
   "metadata": {
    "id": "ncV7oci7hQ5B"
   },
   "outputs": [],
   "source": [
    "#This is not what was ultimately used, but is useful to have a notebook that can run by itself\n",
    "\n",
    "aut_x = layers.Conv2D(512,3, padding = 'same', dtype = tf.float64, activation = 'relu')(enc_x)\n",
    "aut_x = layers.Conv2DTranspose(256,(2,2), strides = (2,2))(aut_x)\n",
    "aut_x = layers.Conv2D(256,3, padding = 'same', dtype = tf.float64, activation = 'relu')(aut_x)\n",
    "aut_x = layers.Conv2D(256,3, padding = 'same', dtype = tf.float64, activation = 'relu')(aut_x)\n",
    "aut_x = layers.Conv2DTranspose(32,(2,2), strides = (2,2))(aut_x)\n",
    "aut_x = layers.Conv2D(128,3, padding = 'same', dtype = tf.float64, activation = 'relu')(aut_x)\n",
    "aut_x = layers.Conv2D(128,3, padding = 'same', dtype = tf.float64, activation = 'relu')(aut_x)\n",
    "aut_x = layers.Conv2DTranspose(16,(2,2), strides = (2,2))(aut_x)\n",
    "aut_x = layers.Conv2D(64,3, padding = 'same', dtype = tf.float64, activation = 'relu')(aut_x)\n",
    "aut_x = layers.Conv2D(64,3, padding = 'same', dtype = tf.float64, activation = 'relu')(aut_x)\n",
    "aut_x = layers.Conv2D(3,3, padding = 'same', dtype = tf.float64)(aut_x)\n"
   ]
  },
  {
   "cell_type": "code",
   "execution_count": 23,
   "metadata": {
    "colab": {
     "base_uri": "https://localhost:8080/"
    },
    "id": "nEK9e5vGhQ5B",
    "outputId": "a1d767bd-6d04-4acb-97d7-c6da7fc9c7f3"
   },
   "outputs": [
    {
     "data": {
      "text/plain": [
       "<KerasTensor: shape=(None, 128, 128, 3) dtype=float64 (created by layer 'conv2d_22')>"
      ]
     },
     "execution_count": 23,
     "metadata": {},
     "output_type": "execute_result"
    }
   ],
   "source": [
    "aut_x"
   ]
  },
  {
   "cell_type": "code",
   "execution_count": 24,
   "metadata": {
    "id": "E2xjyEH1hQ5B"
   },
   "outputs": [],
   "source": [
    "autoencoder = Model(inputs=u_inp, outputs=aut_x)"
   ]
  },
  {
   "cell_type": "code",
   "execution_count": null,
   "metadata": {},
   "outputs": [],
   "source": [
    "#Setting up inpainting"
   ]
  },
  {
   "cell_type": "code",
   "execution_count": 25,
   "metadata": {
    "id": "w3Hv8_rGX2TR"
   },
   "outputs": [],
   "source": [
    "#paper has T = 250 r = 10 j = 10\n",
    "T = 251\n",
    "step_variance = 0.15"
   ]
  },
  {
   "cell_type": "code",
   "execution_count": 26,
   "metadata": {
    "id": "RIR71xX1ZGAM"
   },
   "outputs": [],
   "source": [
    "#I don't think it's that important to speed this up. Also, it makes sense to always use the same schedule for the training. There is no reason to change the schedule at inference time\n",
    "#Also, I need to have a 0 at timestep 0\n",
    "schedule = [0.0]\n",
    "for i in range (T):\n",
    "  #schedule.append(random.uniform(25/255,30/255))\n",
    "  schedule.append(step_variance)"
   ]
  },
  {
   "cell_type": "code",
   "execution_count": 27,
   "metadata": {
    "id": "yQ8CX7cXa7VQ"
   },
   "outputs": [],
   "source": [
    "square_schedule = []\n",
    "for i in schedule:\n",
    "  square_schedule.append(i**2)"
   ]
  },
  {
   "cell_type": "code",
   "execution_count": 28,
   "metadata": {
    "id": "lM2Ghqm6a9yH"
   },
   "outputs": [],
   "source": [
    "#I will need the final standard deviation after each step. i.e. the stddev of the sum of the noises\n",
    "prep_schedule = []\n",
    "total = 0\n",
    "for i in range(len(square_schedule)):\n",
    "  total += square_schedule[i]\n",
    "  prep_schedule.append(total)\n",
    "for i in range(len(prep_schedule)):\n",
    "  prep_schedule[i] = math.sqrt(prep_schedule[i])"
   ]
  },
  {
   "cell_type": "code",
   "execution_count": 29,
   "metadata": {
    "id": "29V8Uyo9a_p3"
   },
   "outputs": [],
   "source": [
    "def add_noise (image, schedule, t):\n",
    "  noise = tf.random.normal(image.shape,stddev=prep_schedule[t], dtype=tf.float64)\n",
    "  return image + noise"
   ]
  },
  {
   "cell_type": "code",
   "execution_count": null,
   "metadata": {
    "colab": {
     "base_uri": "https://localhost:8080/",
     "height": 303
    },
    "id": "j1YPKiLAspF0",
    "outputId": "1bb7765e-cacd-4ca3-e078-dc5f1deb1049"
   },
   "outputs": [],
   "source": [
    "#I don't think it's that important to speed this up. Also, it makes sense to always use the same schedule for the training. There is no reason to change the schedule at inference time\n",
    "#Also, I need to have a 0 at timestep 0\n",
    "schedule = [0.0]\n",
    "for i in range (T):\n",
    "  #schedule.append(random.uniform(25/255,30/255))\n",
    "  schedule.append(step_variance)\n",
    "square_schedule = []\n",
    "for i in schedule:\n",
    "  square_schedule.append(i**2)\n",
    "prep_schedule = []\n",
    "total = 0\n",
    "for i in range(len(square_schedule)):\n",
    "  total += square_schedule[i]\n",
    "  prep_schedule.append(total)\n",
    "for i in range(len(prep_schedule)):\n",
    "  prep_schedule[i] = math.sqrt(prep_schedule[i])"
   ]
  },
  {
   "cell_type": "code",
   "execution_count": 32,
   "metadata": {
    "id": "T6tjsgtsUU6G"
   },
   "outputs": [],
   "source": [
    "def custom_train(x, mod, batch_size, optimizer):\n",
    "\n",
    "    with tf.GradientTape() as tape:\n",
    "\n",
    "      #to make a batch of noises woth differnet standard deviation, i can make a big tensor with stddev of 1, and then multiply each element for\n",
    "      #its corresponding standard deviation\n",
    "        random_t = tf.random.uniform([x.shape[0]],minval=1,maxval=250, dtype=tf.int32)\n",
    "        float_random_t = tf.cast(random_t, tf.float64)\n",
    "        stddevs = tf.map_fn(lambda l: prep_schedule[tf.cast(l,tf.int32)],float_random_t)\n",
    "\n",
    "        actual_noises = tf.random.normal(x.shape, dtype=tf.float64)\n",
    "        actual_noises = tf.transpose(tf.transpose(actual_noises)*stddevs)\n",
    "        noisy_images = x+actual_noises\n",
    "        predicted_noises = mod(noisy_images)\n",
    "        \n",
    "        loss = tf.keras.losses.MeanSquaredError()(actual_noises, predicted_noises)\n",
    "        \n",
    "\n",
    "    grads = tape.gradient(loss, mod.trainable_variables)\n",
    "\n",
    "    optimizer.apply_gradients(zip(grads, mod.trainable_variables))\n",
    "\n",
    "    return loss"
   ]
  },
  {
   "cell_type": "code",
   "execution_count": 33,
   "metadata": {
    "id": "YcupHpp6AsUM"
   },
   "outputs": [],
   "source": [
    "n_epochs = 0\n",
    "loss_history = []\n",
    "epoch_loss_history = []\n",
    "opt = tf.keras.optimizers.Adam()\n",
    "batch_size = 32"
   ]
  },
  {
   "cell_type": "code",
   "execution_count": 35,
   "metadata": {
    "id": "QVw3J8wVAuus"
   },
   "outputs": [],
   "source": [
    "\n",
    "for i in range(n_epochs):\n",
    "  batch_count = 0\n",
    "  start = time.time()\n",
    "  for batch in train.shuffle(1000).batch(batch_size):\n",
    "    loss_history.append(custom_train(batch,autoencoder,batch_size,opt))\n",
    "    batch_count +=1\n",
    "    if batch_count % 10 == 0:\n",
    "      #print(\"\\r\", end = '', flush = True)\n",
    "      print(batch_count)\n",
    "    #print('')\n",
    "  print(time.time()-start)\n",
    "  np_history = np.asarray(loss_history)\n",
    "  mean = np.mean(np_history)\n",
    "  print(mean)\n",
    "  epoch_loss_history.append(mean)\n",
    "  loss_history = []"
   ]
  },
  {
   "cell_type": "code",
   "execution_count": 36,
   "metadata": {
    "id": "a8RTcNmFIVJS"
   },
   "outputs": [],
   "source": [
    "clear_sample = iter(test).next()"
   ]
  },
  {
   "cell_type": "code",
   "execution_count": 38,
   "metadata": {
    "id": "ULf1cJg4EzAz"
   },
   "outputs": [],
   "source": [
    "noisy_sample = add_noise(clear_sample,prep_schedule,0)"
   ]
  },
  {
   "cell_type": "code",
   "execution_count": 41,
   "metadata": {
    "id": "GHb5njGEFAlc"
   },
   "outputs": [],
   "source": [
    "img = noisy_sample"
   ]
  },
  {
   "cell_type": "code",
   "execution_count": 43,
   "metadata": {
    "id": "6M8_kJ8n4BRI"
   },
   "outputs": [],
   "source": [
    "#img = noisy_sample\n",
    "#for i in range(250,0,-1):\n",
    "#  last_noise = img-autoencoder(tf.reshape(noisy_sample,[1,128,128,3]))[0]\n",
    "#  img = img-last_noise\n",
    "#plt.imshow(img)"
   ]
  },
  {
   "cell_type": "markdown",
   "metadata": {
    "id": "Fo4cbGHKVKen"
   },
   "source": [
    "Inference"
   ]
  },
  {
   "cell_type": "code",
   "execution_count": 44,
   "metadata": {
    "id": "VLMcHCM_VMJe"
   },
   "outputs": [],
   "source": [
    "def stack_overflow_mask():\n",
    "  mask = tf.concat([\n",
    "      tf.zeros([img_size, y1]),\n",
    "      tf.concat([tf.zeros([x1, y2-y1]), tf.ones([x2-x1, y2-y1]), tf.zeros([img_size - x2, y2-y1])], axis=0),\n",
    "      tf.zeros([img_size, img_size - y2])\n",
    "    ], axis=1)\n",
    "  mask = tf.stack([mask] * channels, axis=2)"
   ]
  },
  {
   "cell_type": "code",
   "execution_count": 45,
   "metadata": {
    "id": "qjKjW_SxC2BB"
   },
   "outputs": [],
   "source": [
    "def generate_mask(image, y1, y2, x1, x2):\n",
    "  #x and y are inverted wrt to how I would call them\n",
    "  mask = tf.concat([\n",
    "      tf.zeros([image.shape[0], y1]),\n",
    "      tf.concat([tf.zeros([x1, y2-y1]), tf.ones([x2-x1, y2-y1]), tf.zeros([image.shape[0] - x2, y2-y1])], axis=0),\n",
    "      tf.zeros([image.shape[0], image.shape[1] - y2])\n",
    "    ], axis=1)\n",
    "  mask = tf.stack([mask] * image.shape[-1], axis=2)\n",
    "  return tf.cast(mask,tf.float64)"
   ]
  },
  {
   "cell_type": "code",
   "execution_count": 46,
   "metadata": {
    "id": "zKy6oQ9-EQDR"
   },
   "outputs": [],
   "source": [
    "def generate_hole_mask(image, y1, y2, x1, x2):\n",
    "  return 1 - generate_mask(image, y1, y2, x1, x2)"
   ]
  },
  {
   "cell_type": "code",
   "execution_count": 47,
   "metadata": {
    "id": "Ysq8XzOQViQM"
   },
   "outputs": [],
   "source": [
    "#tf.boolean_mask(img, mask)"
   ]
  },
  {
   "cell_type": "code",
   "execution_count": 48,
   "metadata": {
    "id": "BBuoHde_Wfp3"
   },
   "outputs": [],
   "source": [
    "alphas = []\n",
    "for i in schedule:\n",
    "  alphas.append(1-i)"
   ]
  },
  {
   "cell_type": "code",
   "execution_count": 49,
   "metadata": {
    "id": "sovDaTAcyHQi"
   },
   "outputs": [],
   "source": [
    "square_alphas = []\n",
    "for i in alphas:\n",
    "  square_alphas.append(i**2)\n",
    "square_alphas[0] = 0\n"
   ]
  },
  {
   "cell_type": "code",
   "execution_count": 50,
   "metadata": {
    "id": "AkQnIq2Ex5c8"
   },
   "outputs": [],
   "source": [
    "prep_alphas = []\n",
    "total = 0\n",
    "for i in range(len(square_alphas)):\n",
    "  total += square_alphas[i]\n",
    "  prep_alphas.append(total)\n",
    "for i in range(len(prep_alphas)):\n",
    "  prep_alphas[i] = math.sqrt(prep_alphas[i])"
   ]
  },
  {
   "cell_type": "code",
   "execution_count": 51,
   "metadata": {
    "id": "4_z138LcWuG1"
   },
   "outputs": [],
   "source": [
    "#sample t-1 of known region\n",
    "#tf.random.normal(mean = math.sqrt(alpha)*x_0, stddev = 1-alpha*tf.ones(x_0.shape))"
   ]
  },
  {
   "cell_type": "code",
   "execution_count": 52,
   "metadata": {
    "id": "rro_7YhC515Y"
   },
   "outputs": [],
   "source": [
    "def sample_known(image, t):\n",
    "  t = t-1\n",
    "  return tf.random.normal((1-prep_alphas[t])*tf.ones(image.shape), mean = math.sqrt(prep_alphas[t])*image )"
   ]
  },
  {
   "cell_type": "code",
   "execution_count": 53,
   "metadata": {
    "id": "DRFdmSwXGkcg"
   },
   "outputs": [],
   "source": [
    "def inpainting(image, denoiser, mask, T = 251, r = 10, j = 10): #\n",
    "  noise_checker = 0 #\n",
    "  noisy_image = image*mask\n",
    "  noisy_image = add_noise(noisy_image, schedule, T)\n",
    "  noise_checker += T#\n",
    "  for i in range(T - j, 0, (-1)*j):\n",
    "    \n",
    "    for round in range(r):\n",
    "      for step in range(j):\n",
    "        total_noise = denoiser(tf.reshape(noisy_image,[1,128,128,3]))[0]\n",
    "        fraction_of_noise = (1/(i+step+1))*(total_noise)\n",
    "        noisy_image = noisy_image-fraction_of_noise\n",
    "        total_denoising = noise_checker#\n",
    "        fraction_denoising = (1/(i+step+1))*total_denoising#\n",
    "        noise_checker -= fraction_denoising #\n",
    "        #\n",
    "        known_sample = image + tf.random.normal(image.shape, stddev = math.sqrt(noise_checker*(step_variance**2)), dtype = tf.float64)\n",
    "        known_sample = known_sample*mask\n",
    "        noisy_image = noisy_image * (1-mask)\n",
    "        noisy_image = noisy_image + known_sample\n",
    "      if round < (r-1):\n",
    "        noisy_image = noisy_image + tf.random.normal(noisy_image.shape, stddev = (prep_schedule[i+j]-prep_schedule[i]), dtype = tf.float64)\n",
    "        noise_checker += j#\n",
    "\n",
    "  \n",
    "  noisy_image = noisy_image - denoiser(tf.reshape(noisy_image,[1,128,128,3]))[0]\n",
    "  final_image = (image*mask) + (noisy_image*(1-mask))\n",
    "  return final_image"
   ]
  },
  {
   "cell_type": "code",
   "execution_count": 6,
   "metadata": {},
   "outputs": [
    {
     "data": {
      "text/plain": [
       "<matplotlib.image.AxesImage at 0x7f18f84f4f70>"
      ]
     },
     "execution_count": 6,
     "metadata": {},
     "output_type": "execute_result"
    },
    {
     "data": {
      "image/png": "[encoded data removed]",
      "text/plain": [
       "<Figure size 432x288 with 1 Axes>"
      ]
     },
     "metadata": {
      "needs_background": "light"
     },
     "output_type": "display_data"
    }
   ],
   "source": [
    "mask = generate_hole_mask(clear_sample, 50, 100, 50, 100)\n",
    "inpainted_image = inpainting(sample_image, autoencoder, mask)\n",
    "plt.imshow(inpainted_image)"
   ]
  },
  {
   "cell_type": "code",
   "execution_count": 55,
   "metadata": {
    "id": "dX-rNl66X-Tt"
   },
   "outputs": [],
   "source": [
    "#%pip install pyyaml h5py"
   ]
  },
  {
   "cell_type": "code",
   "execution_count": 56,
   "metadata": {
    "id": "ynhuBR7YY612"
   },
   "outputs": [],
   "source": [
    "#import os\n",
    "#from tensorflow import keras\n",
    "#autoencoder.save_weights('my_checkpoint')"
   ]
  },
  {
   "cell_type": "markdown",
   "metadata": {
    "id": "W26FXSSBaTcU"
   },
   "source": [
    "Part 2: Hper-resolution"
   ]
  },
  {
   "cell_type": "markdown",
   "metadata": {
    "id": "Tzx3FXYhaZFq"
   },
   "source": [
    "Hyper resolution with GANs"
   ]
  },
  {
   "cell_type": "code",
   "execution_count": 57,
   "metadata": {
    "id": "8CqQcyG8_tXb"
   },
   "outputs": [],
   "source": [
    "class InstanceNormalization(tf.keras.layers.Layer):\n",
    "  def __init__(self):\n",
    "    super().__init__()\n",
    "    \n",
    "    \n",
    "\n",
    "  \n",
    "  def call(self,inputs):\n",
    "        return (inputs - tf.reduce_mean(inputs, axis = 0, keepdims = True))\\\n",
    "    /(tf.math.reduce_std(inputs, axis = 0, keepdims = True) + 1e-05)"
   ]
  },
  {
   "cell_type": "code",
   "execution_count": 58,
   "metadata": {
    "id": "GOAkWZIx_tXb"
   },
   "outputs": [],
   "source": [
    "class PositionalNormalization(tf.keras.layers.Layer):\n",
    "  def __init__(self):\n",
    "    super().__init__()\n",
    "    \n",
    "    \n",
    "\n",
    "  \n",
    "  def call(self,inputs):\n",
    "        return (inputs - tf.reduce_mean(inputs, axis = 1, keepdims = True))\\\n",
    "    /(tf.math.reduce_std(inputs, axis = 1, keepdims = True) + 1e-05)"
   ]
  },
  {
   "cell_type": "code",
   "execution_count": 59,
   "metadata": {
    "id": "sstKFBZe_tXb"
   },
   "outputs": [],
   "source": [
    "disc_input = layers.Input(shape=(256,256,3), dtype = tf.float64)"
   ]
  },
  {
   "cell_type": "code",
   "execution_count": 60,
   "metadata": {
    "id": "CrizRwcd_tXb"
   },
   "outputs": [],
   "source": [
    "disc_x = layers.Conv2D(32,3, padding = 'same', dtype = tf.float64, activation = 'relu')(disc_input)\n",
    "disc_x = layers.Conv2D(32,3, padding = 'same', dtype = tf.float64, activation = 'relu')(disc_x)\n",
    "disc_x = layers.MaxPool2D()(disc_x)\n",
    "disc_x = layers.Conv2D(64,3, padding = 'same', dtype = tf.float64, activation = 'relu')(disc_x)\n",
    "disc_x = layers.Conv2D(64,3, padding = 'same', dtype = tf.float64, activation = 'relu')(disc_x)\n",
    "disc_x = layers.Conv2D(1,3, padding = 'same', dtype = tf.float64, activation = 'relu')(disc_x)\n",
    "disc_x = layers.Flatten()(disc_x)\n",
    "#disc_x = layers.Dense(16, activation = 'relu')(disc_x)\n",
    "disc_x = layers.Dense(1, activation = 'sigmoid')(disc_x)"
   ]
  },
  {
   "cell_type": "code",
   "execution_count": 61,
   "metadata": {
    "id": "XLUYKao8_tXc"
   },
   "outputs": [],
   "source": [
    "discriminator = Model(inputs=disc_input, outputs=disc_x)"
   ]
  },
  {
   "cell_type": "code",
   "execution_count": 62,
   "metadata": {
    "id": "aLY9GZc1_tXc"
   },
   "outputs": [],
   "source": [
    "class DownBlock(tf.keras.layers.Layer):\n",
    "  def __init__(self, output_channels):\n",
    "    super().__init__()\n",
    "    self.output_channels = output_channels\n",
    "    self.conv = layers.Conv2D(output_channels, 3, padding = 'same',\\\n",
    "    dtype = tf.float64, activation= layers.LeakyReLU(alpha=0.01))\n",
    "    self.instance_norm = InstanceNormalization()\n",
    "    self.pos_norm = PositionalNormalization()\n",
    "  \n",
    "  def call(self, inputs):\n",
    "        out = self.instance_norm(inputs)\n",
    "        out = self.conv(out)\n",
    "        out = self.pos_norm(out)\n",
    "        out = layers.AveragePooling2D(dtype = tf.float64)(out)\n",
    "        return out\n",
    "\n",
    "#instance normalization -> 2d conv -> posnorm -> avPool"
   ]
  },
  {
   "cell_type": "code",
   "execution_count": 63,
   "metadata": {
    "id": "zE0kylh6_tXc"
   },
   "outputs": [],
   "source": [
    "class UpBlock(tf.keras.layers.Layer):\n",
    "  def __init__(self, output_channels):\n",
    "    super().__init__()\n",
    "    self.conv = layers.Conv2D(output_channels / 2, 3, padding = 'same',\\\n",
    "    dtype = tf.float64, activation= layers.LeakyReLU(alpha=0.01))\n",
    "    self.transpose= layers.Conv2DTranspose(output_channels,(2,2), strides = (2,2),dtype = tf.float64)\n",
    "  \n",
    "  def call(self, high_res, previous_output, low_res):\n",
    "        high_res = tf.cast(high_res, dtype = tf.float64)\n",
    "        inp = tf.concat ((high_res, previous_output, low_res), axis = 3)\n",
    "        out = self.conv(inp)\n",
    "        out = self.transpose(out)\n",
    "        return out\n",
    "\n",
    "#instance normalization -> 2d conv -> posnorm -> avPool"
   ]
  },
  {
   "cell_type": "code",
   "execution_count": 64,
   "metadata": {
    "id": "w_Y08rPP_tXc"
   },
   "outputs": [],
   "source": [
    "class MidBlock(tf.keras.layers.Layer):\n",
    "  def __init__(self, output_channels):\n",
    "    super().__init__()\n",
    "    self.conv = layers.Conv2D(output_channels / 2, 3, padding = 'same',\\\n",
    "    dtype = tf.float64, activation= layers.LeakyReLU(alpha=0.01))\n",
    "  \n",
    "  def call(self, high_res, previous_output, low_res):\n",
    "        high_res = tf.cast(high_res, dtype = tf.float64)\n",
    "        inp = tf.concat ((high_res, previous_output, low_res), axis = 3)\n",
    "        out = self.conv(inp)\n",
    "        return out\n"
   ]
  },
  {
   "cell_type": "code",
   "execution_count": 65,
   "metadata": {
    "id": "Qj6aqshS_tXc"
   },
   "outputs": [],
   "source": [
    "high_input = layers.Input(shape=(256,256,3), dtype = tf.float64)\n",
    "low_input = layers.Input(shape=(128,128,3), dtype = tf.float64)"
   ]
  },
  {
   "cell_type": "code",
   "execution_count": 65,
   "metadata": {
    "id": "J-TwBHXF_tXc"
   },
   "outputs": [],
   "source": []
  },
  {
   "cell_type": "code",
   "execution_count": 66,
   "metadata": {
    "id": "aZ6aZhED_tXc"
   },
   "outputs": [],
   "source": [
    "down_x_0 =layers.Conv2D(8,1, padding = 'same', dtype = tf.float64, activation = 'relu')(high_input)\n",
    "down_x_1 = DownBlock(16)(down_x_0)#128\n",
    "down_x_2=  DownBlock(32)(down_x_1)#64\n",
    "#down_x_3=  DownBlock(512)(down_x_2)#32\n",
    "low_res_0 = layers.Conv2DTranspose(8,(2,2), strides = (2,2), dtype = tf.float64)(low_input)\n",
    "low_res_1 = layers.Conv2D(16,1, padding = 'same', dtype = tf.float64, activation = 'relu')(low_input)\n",
    "low_res_2 = DownBlock(32)(low_res_1)#64\n",
    "#low_res_3=  DownBlock(512)(low_res_2)#32\n",
    "#up_x_3 = UpBlock(256)(down_x_3, down_x_3,low_res_3)#32, 32, 32\n",
    "up_x_2 = UpBlock(16)(down_x_2, down_x_2,low_res_2)#64, 64, 64\n",
    "up_x_1 = UpBlock(8)(down_x_1, up_x_2,low_res_1)#128,128,128\n",
    "up_x_0 = MidBlock(4)(down_x_0, up_x_1,low_res_0)#256,256,256\n",
    "final_x = layers.Conv2D(3,1, padding = 'same', dtype = tf.float64, activation = 'relu')(up_x_0)\n"
   ]
  },
  {
   "cell_type": "code",
   "execution_count": 67,
   "metadata": {
    "id": "2FqFIORo_tXc"
   },
   "outputs": [],
   "source": [
    "generator = Model(inputs=(high_input, low_input), outputs=final_x)\n",
    "c_lambda = 0.5"
   ]
  },
  {
   "cell_type": "code",
   "execution_count": 67,
   "metadata": {
    "id": "yq_V8eWsBSE7"
   },
   "outputs": [],
   "source": []
  },
  {
   "cell_type": "code",
   "execution_count": 68,
   "metadata": {
    "id": "aVpQ-Jqh_tXc"
   },
   "outputs": [],
   "source": [
    "#train generator and discriminator\n",
    "def GAN_train(x_high, x_low, gen, disc, batch_size, optimizer):\n",
    "    with tf.GradientTape(persistent = True) as tape:\n",
    "        \n",
    "        #alternative version trains 1 epoch the generator, using loss_2, loss_3, 1 epoch the discriminator, using loss_1\n",
    "        loss_1 = tf.keras.losses.BinaryCrossentropy()(disc(x_high),tf.zeros([batch_size,1], dtype = tf.float64))\n",
    "        loss_2 = tf.keras.losses.BinaryCrossentropy()(disc(gen((x_high,x_low))), tf.ones([batch_size,1], dtype = tf.float64))\n",
    "        loss_3 = tf.keras.losses.MeanSquaredError()\\\n",
    "        (x_high,\\\n",
    "         gen((gen((x_high, x_low)), tf.image.resize_with_pad(x_high,128,128))))\n",
    "        total_loss = loss_1 + loss_2 + (c_lambda * loss_3)\n",
    "\n",
    "    gen_grads = tape.gradient(total_loss, gen.trainable_variables)\n",
    "    \n",
    "    disc_grads = tape.gradient(total_loss, disc.trainable_variables)\n",
    "\n",
    "    optimizer.apply_gradients(zip(gen_grads, gen.trainable_variables))\n",
    "    optimizer.apply_gradients(zip(disc_grads, disc.trainable_variables))\n",
    "\n",
    "    del tape\n",
    "\n",
    "    return total_loss\n",
    "    "
   ]
  },
  {
   "cell_type": "code",
   "execution_count": null,
   "metadata": {},
   "outputs": [],
   "source": [
    "def GAN_train_alternate(x_high, x_low, gen, disc, batch_size, optimizer, epoch_n):\n",
    "    total_loss = 0\n",
    "    small_constant = 1e-3\n",
    "\n",
    "    if epoch_n%3 == 0:\n",
    "        with tf.GradientTape(persistent = True) as tape:\n",
    "\n",
    "            #alternative version trains 1 epoch the generator, using loss_2, loss_3, 1 epoch the discriminator, using loss_1\n",
    "\n",
    "            loss_1 = tf.keras.losses.BinaryCrossentropy()(disc(x_high),tf.zeros([batch_size,1], dtype = tf.float64))\n",
    "            loss_2 = tf.keras.losses.BinaryCrossentropy()(disc(gen((x_high,x_low))), tf.ones([batch_size,1], dtype = tf.float64))\n",
    "            loss_3 = tf.keras.losses.MeanSquaredError()\\\n",
    "            (x_high,\\\n",
    "             gen((gen((x_high, x_low)), tf.image.resize_with_pad(x_high,128,128))))\n",
    "            total_loss = loss_1 + loss_2 + (c_lambda * loss_3)\n",
    "\n",
    "        gen_grads = tape.gradient(total_loss, gen.trainable_variables)\n",
    "\n",
    "        disc_grads = tape.gradient(total_loss, disc.trainable_variables)\n",
    "\n",
    "        optimizer.apply_gradients(zip(gen_grads, gen.trainable_variables))\n",
    "        optimizer.apply_gradients(zip(disc_grads, disc.trainable_variables))\n",
    "\n",
    "        del tape\n",
    "    else:\n",
    "        with tf.GradientTape(persistent = True) as tape:\n",
    "\n",
    "\n",
    "            loss_1 = tf.keras.losses.BinaryCrossentropy()(disc(x_high),tf.zeros([batch_size,1], dtype = tf.float64))\n",
    "            loss_2 = tf.keras.losses.BinaryCrossentropy()(disc(gen((x_high,x_low))), tf.ones([batch_size,1], dtype = tf.float64))\n",
    "            \n",
    "\n",
    "\n",
    "        disc_grads = tape.gradient(total_loss, disc.trainable_variables)\n",
    "\n",
    "        optimizer.apply_gradients(zip(gen_grads, gen.trainable_variables))\n",
    "        optimizer.apply_gradients(zip(disc_grads, disc.trainable_variables))\n",
    "\n",
    "        del tape\n",
    "        \n",
    "\n",
    "    return total_loss\n",
    "    "
   ]
  },
  {
   "cell_type": "code",
   "execution_count": 69,
   "metadata": {
    "id": "QAlumBCr_tXc"
   },
   "outputs": [],
   "source": [
    "train_high = tfds.load('imagenet_a', split = 'test[20%:100%]').map(lambda l: l['image'])\n",
    "test_high = tfds.load('imagenet_a', split = 'test[0%:20%]').map(lambda l: l['image'])\n",
    "train_high = train_high.map(lambda l: tf.cast(tf.image.resize_with_pad(l,256,256), tf.int32))\n",
    "test_high = test_high.map(lambda l: tf.cast(tf.image.resize_with_pad(l,256,256),tf.int32))\n",
    "train_high = train_high.map(lambda l: l/255)\n",
    "test_high = test_high.map(lambda l: l/255)"
   ]
  },
  {
   "cell_type": "code",
   "execution_count": 85,
   "metadata": {
    "id": "wIB43A3R_tXc"
   },
   "outputs": [],
   "source": [
    "n_epochs = 0\n",
    "loss_history = []\n",
    "epoch_loss_history = []\n",
    "opt = tf.keras.optimizers.Adam()\n",
    "batch_size = 8"
   ]
  },
  {
   "cell_type": "code",
   "execution_count": 97,
   "metadata": {
    "id": "0WZXFHd4_tXc"
   },
   "outputs": [],
   "source": [
    "train_high = train_high.shuffle(1000)\n",
    "GAN_dataset = tf.data.Dataset.zip((train_high, train))"
   ]
  },
  {
   "cell_type": "code",
   "execution_count": 86,
   "metadata": {
    "id": "DB2e-P6z_tXd"
   },
   "outputs": [],
   "source": [
    "for i in range(n_epochs):\n",
    "  batch_count = 0\n",
    "  start = time.time()\n",
    "  for batch in GAN_dataset.shuffle(1000).batch(batch_size):\n",
    "    loss_history.append(GAN_train(batch[0], batch[1] ,generator, discriminator,batch_size,opt))\n",
    "    batch_count +=1\n",
    "    if batch_count % 10 == 0:\n",
    "      #print(\"\\r\", end = '', flush = True)\n",
    "      print(batch_count)\n",
    "    #print('')\n",
    "  print(time.time()-start)\n",
    "  np_history = np.asarray(loss_history)\n",
    "  mean = np.mean(np_history)\n",
    "  print(mean)\n",
    "  epoch_loss_history.append(mean)\n",
    "  loss_history = []"
   ]
  },
  {
   "cell_type": "code",
   "execution_count": 102,
   "metadata": {
    "id": "2I5DNSC6HY43"
   },
   "outputs": [],
   "source": [
    "low_res_image = sample_image\n",
    "low_res_image = tf.reshape(low_res_image,[1,128,128,3])\n",
    "high_res_image = iter(test_high).next()\n",
    "high_res_image = tf.reshape(high_res_image,[1,256,256,3])"
   ]
  },
  {
   "cell_type": "code",
   "execution_count": null,
   "metadata": {
    "colab": {
     "base_uri": "https://localhost:8080/",
     "height": 286
    },
    "id": "0xyZ73njKSCR",
    "outputId": "28888f42-089c-47ff-8c41-2e82e27dc183"
   },
   "outputs": [],
   "source": [
    "#generator((high_res_image, low_res_image))[0]"
   ]
  },
  {
   "cell_type": "markdown",
   "metadata": {
    "id": "o0T83Rk9ahLK"
   },
   "source": [
    "Hyper resolution with diffusion"
   ]
  },
  {
   "cell_type": "code",
   "execution_count": 124,
   "metadata": {
    "id": "tJTiinxv_tXe"
   },
   "outputs": [],
   "source": [
    "def diffusion_hyper_resolution(image, denoiser, T = 251, r = 10, j = 10): #\n",
    "  noise_checker = 0 #\n",
    "  noisy_image = image\n",
    "  noisy_image = tf.image.resize_with_pad(noisy_image,256,256)\n",
    "  noisy_image = tf.cast(noisy_image, tf.float64)\n",
    "  noisy_image = add_noise(noisy_image, schedule, T)\n",
    "  noise_checker += T#\n",
    "  for i in range(T - j, 0, (-1)*j):\n",
    "    \n",
    "    for round in range(r):\n",
    "      for step in range(j):\n",
    "        total_noise = denoiser(tf.reshape(noisy_image,[1,256,256,3]))[0]\n",
    "        fraction_of_noise = (1/(i+step+1))*(total_noise)\n",
    "        noisy_image = noisy_image-fraction_of_noise\n",
    "        total_denoising = noise_checker#\n",
    "        fraction_denoising = (1/(i+step+1))*total_denoising#\n",
    "        noise_checker -= fraction_denoising #\n",
    "        #\n",
    "      if round < (r-1):\n",
    "        noisy_image = noisy_image + tf.random.normal(noisy_image.shape, stddev = (prep_schedule[i+j]-prep_schedule[i]), dtype = tf.float64)\n",
    "        noise_checker += j#\n",
    "\n",
    "  \n",
    "  final_image = noisy_image - denoiser(tf.reshape(noisy_image,[1,256,256,3]))[0]\n",
    "  return final_image"
   ]
  },
  {
   "cell_type": "code",
   "execution_count": 112,
   "metadata": {
    "id": "sUVmMnRUTikL"
   },
   "outputs": [],
   "source": [
    "high_aut_inp = layers.Input(shape=(256,256,3), dtype = tf.float64)"
   ]
  },
  {
   "cell_type": "code",
   "execution_count": 113,
   "metadata": {
    "id": "Wrcic4eyTs0i"
   },
   "outputs": [],
   "source": [
    "high_aut_x = layers.Conv2D(64,3, padding = 'same', dtype = tf.float64, activation = 'relu')(high_aut_inp)\n",
    "high_aut_x = layers.BatchNormalization(epsilon=1e-3, momentum=0.999)(high_aut_x)\n",
    "high_aut_x = layers.Conv2D(64,3, padding = 'same', dtype = tf.float64, activation = 'relu')(high_aut_x)\n",
    "high_aut_x = layers.BatchNormalization(epsilon=1e-3, momentum=0.999)(high_aut_x)\n",
    "high_aut_x = layers.MaxPool2D()(high_aut_x)\n",
    "high_aut_x = layers.Conv2D(128,3, padding = 'same', dtype = tf.float64, activation = 'relu')(high_aut_x)\n",
    "high_aut_x = layers.BatchNormalization(epsilon=1e-3, momentum=0.999)(high_aut_x)\n",
    "high_aut_x = layers.Conv2D(128,3, padding = 'same', dtype = tf.float64, activation = 'relu')(high_aut_x)\n",
    "high_aut_x = layers.BatchNormalization(epsilon=1e-3, momentum=0.999)(high_aut_x)\n",
    "high_aut_x = layers.MaxPool2D()(high_aut_x)\n",
    "high_aut_x = layers.Conv2D(256,3, padding = 'same', dtype = tf.float64, activation = 'relu')(high_aut_x)\n",
    "high_aut_x = layers.BatchNormalization(epsilon=1e-3, momentum=0.999)(high_aut_x)\n",
    "high_aut_x = layers.Conv2D(256,3, padding = 'same', dtype = tf.float64, activation = 'relu')(high_aut_x)\n",
    "high_aut_x = layers.BatchNormalization(epsilon=1e-3, momentum=0.999)(high_aut_x)\n",
    "high_aut_x = layers.MaxPool2D()(high_aut_x)\n",
    "high_aut_x = layers.Conv2D(512,3, padding = 'same', dtype = tf.float64, activation = 'relu')(high_aut_x)\n",
    "high_aut_x = layers.Conv2D(512,3, padding = 'same', dtype = tf.float64, activation = 'relu')(high_aut_x)\n",
    "high_aut_x = layers.Conv2DTranspose(256,(2,2), strides = (2,2))(high_aut_x)\n",
    "high_aut_x = layers.Conv2D(256,3, padding = 'same', dtype = tf.float64, activation = 'relu')(high_aut_x)\n",
    "high_aut_x = layers.Conv2D(256,3, padding = 'same', dtype = tf.float64, activation = 'relu')(high_aut_x)\n",
    "high_aut_x = layers.Conv2DTranspose(32,(2,2), strides = (2,2))(high_aut_x)\n",
    "high_aut_x = layers.Conv2D(128,3, padding = 'same', dtype = tf.float64, activation = 'relu')(high_aut_x)\n",
    "high_aut_x = layers.Conv2D(128,3, padding = 'same', dtype = tf.float64, activation = 'relu')(high_aut_x)\n",
    "high_aut_x = layers.Conv2DTranspose(16,(2,2), strides = (2,2))(high_aut_x)\n",
    "high_aut_x = layers.Conv2D(64,3, padding = 'same', dtype = tf.float64, activation = 'relu')(high_aut_x)\n",
    "high_aut_x = layers.Conv2D(64,3, padding = 'same', dtype = tf.float64, activation = 'relu')(high_aut_x)\n",
    "high_aut_x = layers.Conv2D(3,3, padding = 'same', dtype = tf.float64)(high_aut_x)"
   ]
  },
  {
   "cell_type": "code",
   "execution_count": 116,
   "metadata": {
    "id": "5KiZdumUTzz2"
   },
   "outputs": [],
   "source": [
    "autoencoder_high = Model(inputs = high_aut_inp, outputs = high_aut_x)"
   ]
  },
  {
   "cell_type": "code",
   "execution_count": 109,
   "metadata": {
    "id": "8hVY0qvdUBD7"
   },
   "outputs": [],
   "source": [
    "n_epochs = 0\n",
    "loss_history = []\n",
    "epoch_loss_history = []\n",
    "opt = tf.keras.optimizers.Adam()\n",
    "batch_size = 32"
   ]
  },
  {
   "cell_type": "code",
   "execution_count": 110,
   "metadata": {
    "id": "6yxBNNmbUn3d"
   },
   "outputs": [],
   "source": [
    "\n",
    "for i in range(n_epochs):\n",
    "  batch_count = 0\n",
    "  start = time.time()\n",
    "  for batch in train_high.shuffle(1000).batch(batch_size):\n",
    "    loss_history.append(custom_train(batch,autoencoder_high,batch_size,opt))\n",
    "    batch_count +=1\n",
    "    if batch_count % 10 == 0:\n",
    "      #print(\"\\r\", end = '', flush = True)\n",
    "      print(batch_count)\n",
    "    #print('')\n",
    "  print(time.time()-start)\n",
    "  np_history = np.asarray(loss_history)\n",
    "  mean = np.mean(np_history)\n",
    "  print(mean)\n",
    "  epoch_loss_history.append(mean)\n",
    "  loss_history = []"
   ]
  },
  {
   "cell_type": "code",
   "execution_count": 8,
   "metadata": {},
   "outputs": [
    {
     "data": {
      "text/plain": [
       "<matplotlib.image.AxesImage at 0x7f18f837e550>"
      ]
     },
     "execution_count": 8,
     "metadata": {},
     "output_type": "execute_result"
    },
    {
     "data": {
      "image/png": "[encoded data removed]",
      "text/plain": [
       "<Figure size 432x288 with 1 Axes>"
      ]
     },
     "metadata": {
      "needs_background": "light"
     },
     "output_type": "display_data"
    }
   ],
   "source": [
    "diffusion_hyper_resolution(sample_image, autoencoder_high)"
   ]
  },
  {
   "cell_type": "markdown",
   "metadata": {
    "id": "miUIx8djaqvv"
   },
   "source": [
    "Further experiments and metrics"
   ]
  },
  {
   "cell_type": "code",
   "execution_count": 74,
   "metadata": {
    "id": "1-Ryyiay_tXe"
   },
   "outputs": [],
   "source": [
    "def GAN_denoiser_train(x_1, x_2, gen, disc, batch_size, optimizer):\n",
    "    with tf.GradientTape(persistent = True) as tape:\n",
    "        \n",
    "        random_t = tf.random.uniform([x.shape[0]],minval=1,maxval=250, dtype=tf.int32)\n",
    "        float_random_t = tf.cast(random_t, tf.float64)\n",
    "        stddevs = tf.map_fn(lambda l: prep_schedule[tf.cast(l,tf.int32)],float_random_t)\n",
    "\n",
    "        actual_noises = tf.random.normal(x.shape, dtype=tf.float64)\n",
    "        actual_noises = tf.transpose(tf.transpose(actual_noises)*stddevs)\n",
    "        noisy_images = x_2 +actual_noises    \n",
    "        #alternative version trains for one epoch the discriminator using loss_1\n",
    "        #and for one epoch trains generator using loss_2 and loss_3\n",
    "        loss_1 = tf.keras.losses.BinaryCrossentropy()(disc(x_1),tf.zeros([batch_size,1], dtype = tf.float64))\n",
    "        loss_2 = tf.keras.losses.BinaryCrossentropy()(disc(gen((x_1,x_2))), tf.ones([batch_size,1], dtype = tf.float64))\n",
    "        loss_3 = tf.keras.losses.MeanSquaredError()\\\n",
    "        (x_1,\\\n",
    "         gen((gen((x_1, x_2)), tf.image.resize_with_pad(x_high,256,256))))\n",
    "        total_loss = loss_1 + loss_2 + (c_lambda * loss_3)\n",
    "\n",
    "    gen_grads = tape.gradient(total_loss, gen.trainable_variables)\n",
    "    \n",
    "    disc_grads = tape.gradient(total_loss, disc.trainable_variables)\n",
    "\n",
    "    optimizer.apply_gradients(zip(gen_grads, gen.trainable_variables))\n",
    "    optimizer.apply_gradients(zip(disc_grads, disc.trainable_variables))\n",
    "\n",
    "    del tape\n",
    "\n",
    "    return total_loss\n",
    "    "
   ]
  },
  {
   "cell_type": "code",
   "execution_count": 75,
   "metadata": {
    "id": "oS2k2GqDC3Z-"
   },
   "outputs": [],
   "source": [
    "#train the GAN for denoising\n",
    "#for i in range(n_epochs):\n",
    "#  batch_count = 0\n",
    "#  start = time.time()\n",
    "#  for batch in GAN_dataset.shuffle(1000).batch(batch_size):\n",
    "#    loss_history.append(GAN_diffusion_train(batch[0], batch[0] ,den_generator, den_discriminator,batch_size,opt))\n",
    "#    batch_count +=1\n",
    "#    if batch_count % 10 == 0:\n",
    "#      #print(\"\\r\", end = '', flush = True)\n",
    "#      print(batch_count)\n",
    "#    #print('')\n",
    "#  print(time.time()-start)\n",
    "#  np_history = np.asarray(loss_history)\n",
    "#  mean = np.mean(np_history)\n",
    "#  print(mean)\n",
    "#  epoch_loss_history.append(mean)\n",
    "#  loss_history = []"
   ]
  },
  {
   "cell_type": "code",
   "execution_count": 76,
   "metadata": {
    "id": "RuF-Zm55C3Z-"
   },
   "outputs": [],
   "source": [
    "#disc_den_x = layers.Conv2D(32,3, padding = 'same', dtype = tf.float64, activation = 'relu')(disc_input)\n",
    "#disc_den_x = layers.Conv2D(32,3, padding = 'same', dtype = tf.float64, activation = 'relu')(disc_den_x)\n",
    "#disc_den_x = layers.MaxPool2D()(disc_den_x)\n",
    "#disc_den_x = layers.Conv2D(64,3, padding = 'same', dtype = tf.float64, activation = 'relu')(disc_den_x)\n",
    "#disc_den_x = layers.Conv2D(64,3, padding = 'same', dtype = tf.float64, activation = 'relu')(disc_den_x)\n",
    "#disc_den_x = layers.Conv2D(1,3, padding = 'same', dtype = tf.float64, activation = 'relu')(disc_den_x)\n",
    "#disc_den_x = layers.Flatten()(disc_x)\n",
    "#disc_den_x = layers.Dense(1, activation = 'sigmoid')(disc_x)\n",
    "#disc_den = Model(inputs=disc_input, outputs=disc_den_x)"
   ]
  },
  {
   "cell_type": "code",
   "execution_count": 77,
   "metadata": {
    "id": "1UvJQX7fC3Z-"
   },
   "outputs": [],
   "source": [
    "#high_input_1 = layers.Input(shape=(256,256,3), dtype = tf.float64)\n",
    "#high_input_2 = layers.Input(shape=(256,256,3), dtype = tf.float64)\n",
    "#down_x_0 =layers.Conv2D(8,1, padding = 'same', dtype = tf.float64, activation = 'relu')(high_input)\n",
    "#down_x_1 = DownBlock(16)(down_x_0)#128\n",
    "#down_x_2=  DownBlock(32)(down_x_1)#64\n",
    "#down_x_3=  DownBlock(512)(down_x_2)#32\n",
    "#low_res_0 = layers.Conv2D(16,1, padding = 'same', dtype = tf.float64, activation = 'relu')(low_input)\n",
    "#low_res_1 = DownBlock(32)(low_res_0)#64\n",
    "#low_res_2=  DownBlock(512)(low_res_1)#32\n",
    "#low_res_3=  DownBlock(512)(low_res_2)#32\n",
    "#up_x_3 = UpBlock(256)(down_x_3, down_x_3,low_res_3)#32, 32, 32\n",
    "#up_x_2 = UpBlock(16)(down_x_2, down_x_2,low_res_2)#64, 64, 64\n",
    "#up_x_1 = UpBlock(8)(down_x_1, up_x_2,low_res_1)#128,128,128\n",
    "#up_x_0 = MidBlock(4)(down_x_0, up_x_1,low_res_0)#256,256,256\n",
    "#final_x = layers.Conv2D(3,1, padding = 'same', dtype = tf.float64, activation = 'relu')(up_x_0)\n",
    "#generator = Model(inputs=(high_input, low_input), outputs=final_x)"
   ]
  },
  {
   "cell_type": "code",
   "execution_count": 78,
   "metadata": {
    "id": "Fli4IuftC3Z-"
   },
   "outputs": [],
   "source": []
  },
  {
   "cell_type": "code",
   "execution_count": 79,
   "metadata": {
    "colab": {
     "base_uri": "https://localhost:8080/"
    },
    "id": "9rn0I3rzC3Z-",
    "outputId": "dd7c9390-6244-4382-d6bb-b291f36d1c23"
   },
   "outputs": [
    {
     "name": "stdout",
     "output_type": "stream",
     "text": [
      "Downloading data from https://storage.googleapis.com/tensorflow/keras-applications/inception_v3/inception_v3_weights_tf_dim_ordering_tf_kernels_notop.h5\n",
      "87910968/87910968 [==============================] - 0s 0us/step\n",
      "Prepared (10, 32, 32, 3) (10, 32, 32, 3)\n",
      "Scaled (10, 299, 299, 3) (10, 299, 299, 3)\n",
      "1/1 [==============================] - 3s 3s/step\n",
      "1/1 [==============================] - 0s 34ms/step\n",
      "FID (same): -0.000\n",
      "1/1 [==============================] - 0s 42ms/step\n",
      "1/1 [==============================] - 0s 37ms/step\n",
      "FID (different): 44.342\n"
     ]
    }
   ],
   "source": [
    "#this was copied from here https://machinelearningmastery.com/how-to-implement-the-frechet-inception-distance-fid-from-scratch/\n",
    "#it is the only part of this notebook that is taken from somewhere else\n",
    "# example of calculating the frechet inception distance in Keras\n",
    "import numpy\n",
    "from numpy import cov\n",
    "from numpy import trace\n",
    "from numpy import iscomplexobj\n",
    "from numpy import asarray\n",
    "from numpy.random import randint\n",
    "from scipy.linalg import sqrtm\n",
    "from keras.applications.inception_v3 import InceptionV3\n",
    "from keras.applications.inception_v3 import preprocess_input\n",
    "from keras.datasets.mnist import load_data\n",
    "from skimage.transform import resize\n",
    " \n",
    "# scale an array of images to a new size\n",
    "def scale_images(images, new_shape):\n",
    "\timages_list = list()\n",
    "\tfor image in images:\n",
    "\t\t# resize with nearest neighbor interpolation\n",
    "\t\tnew_image = resize(image, new_shape, 0)\n",
    "\t\t# store\n",
    "\t\timages_list.append(new_image)\n",
    "\treturn asarray(images_list)\n",
    " \n",
    "# calculate frechet inception distance\n",
    "def calculate_fid(model, images1, images2):\n",
    "\t# calculate activations\n",
    "\tact1 = model.predict(images1)\n",
    "\tact2 = model.predict(images2)\n",
    "\t# calculate mean and covariance statistics\n",
    "\tmu1, sigma1 = act1.mean(axis=0), cov(act1, rowvar=False)\n",
    "\tmu2, sigma2 = act2.mean(axis=0), cov(act2, rowvar=False)\n",
    "\t# calculate sum squared difference between means\n",
    "\tssdiff = numpy.sum((mu1 - mu2)**2.0)\n",
    "\t# calculate sqrt of product between cov\n",
    "\tcovmean = sqrtm(sigma1.dot(sigma2))\n",
    "\t# check and correct imaginary numbers from sqrt\n",
    "\tif iscomplexobj(covmean):\n",
    "\t\tcovmean = covmean.real\n",
    "\t# calculate score\n",
    "\tfid = ssdiff + trace(sigma1 + sigma2 - 2.0 * covmean)\n",
    "\treturn fid\n",
    " \n",
    "# prepare the inception v3 model\n",
    "model = InceptionV3(include_top=False, pooling='avg', input_shape=(299,299,3))\n",
    "# define two fake collections of images\n",
    "images1 = randint(0, 255, 10*32*32*3)\n",
    "images1 = images1.reshape((10,32,32,3))\n",
    "images2 = randint(0, 255, 10*32*32*3)\n",
    "images2 = images2.reshape((10,32,32,3))\n",
    "print('Prepared', images1.shape, images2.shape)\n",
    "# convert integer to floating point values\n",
    "images1 = images1.astype('float32')\n",
    "images2 = images2.astype('float32')\n",
    "# resize images\n",
    "images1 = scale_images(images1, (299,299,3))\n",
    "images2 = scale_images(images2, (299,299,3))\n",
    "print('Scaled', images1.shape, images2.shape)\n",
    "# pre-process images\n",
    "images1 = preprocess_input(images1)\n",
    "images2 = preprocess_input(images2)\n",
    "# fid between images1 and images1\n",
    "fid = calculate_fid(model, images1, images1)\n",
    "print('FID (same): %.3f' % fid)\n",
    "# fid between images1 and images2\n",
    "fid = calculate_fid(model, images1, images2)\n",
    "print('FID (different): %.3f' % fid)"
   ]
  },
  {
   "cell_type": "code",
   "execution_count": 79,
   "metadata": {
    "id": "yTPAiuP8C3Z-"
   },
   "outputs": [],
   "source": []
  },
  {
   "cell_type": "code",
   "execution_count": 80,
   "metadata": {
    "colab": {
     "base_uri": "https://localhost:8080/"
    },
    "id": "0iFoKfJuC3Z-",
    "outputId": "ccce2c49-32a6-46cb-c62d-a9e20158c06e"
   },
   "outputs": [
    {
     "name": "stdout",
     "output_type": "stream",
     "text": [
      "Scaled (10, 299, 299, 3) (10, 299, 299, 3)\n"
     ]
    }
   ],
   "source": [
    "#like this is possible to prepare any image to be preprecessed to calculate the fid\n",
    "prep_sample_image = sample_image\n",
    "prep_sample_image = tf.image.resize_with_pad(prep_sample_image,299,299)\n",
    "prep_sample_image = tf.reshape(prep_sample_image,[1,299,299,3])\n",
    "prep_sample_image = prep_sample_image.numpy()\n",
    "prep_sample_image = images1.astype('float32')\n",
    "# resize images\n",
    "prep_sample_image = scale_images(images1, (299,299,3))\n",
    "prep_sample_image = scale_images(images2, (299,299,3))\n",
    "print('Scaled', images1.shape, images2.shape)\n",
    "# pre-process images\n",
    "prep_sample_image = preprocess_input(images1)\n",
    "prep_sample_image = preprocess_input(images2)\n"
   ]
  },
  {
   "cell_type": "code",
   "execution_count": 81,
   "metadata": {
    "colab": {
     "base_uri": "https://localhost:8080/"
    },
    "id": "aJywO7XuC3Z-",
    "outputId": "d09ccdbd-e2b5-42f4-f434-720c346da495"
   },
   "outputs": [
    {
     "name": "stdout",
     "output_type": "stream",
     "text": [
      "1/1 [==============================] - 0s 42ms/step\n",
      "1/1 [==============================] - 0s 33ms/step\n"
     ]
    },
    {
     "data": {
      "text/plain": [
       "-1.4179248197299022e-06"
      ]
     },
     "execution_count": 81,
     "metadata": {},
     "output_type": "execute_result"
    }
   ],
   "source": [
    "calculate_fid(model, prep_sample_image, prep_sample_image)"
   ]
  }
 ],
 "metadata": {
  "accelerator": "GPU",
  "colab": {
   "collapsed_sections": [],
   "provenance": []
  },
  "kernelspec": {
   "display_name": "Python 3 (ipykernel)",
   "language": "python",
   "name": "python3"
  },
  "language_info": {
   "codemirror_mode": {
    "name": "ipython",
    "version": 3
   },
   "file_extension": ".py",
   "mimetype": "text/x-python",
   "name": "python",
   "nbconvert_exporter": "python",
   "pygments_lexer": "ipython3",
   "version": "3.9.12"
  },
  "widgets": {
   "application/vnd.jupyter.widget-state+json": {
    "0280a9b6257b4abea215ce3ead4dfee2": {
     "model_module": "@jupyter-widgets/controls",
     "model_module_version": "1.5.0",
     "model_name": "DescriptionStyleModel",
     "state": {
      "_model_module": "@jupyter-widgets/controls",
      "_model_module_version": "1.5.0",
      "_model_name": "DescriptionStyleModel",
      "_view_count": null,
      "_view_module": "@jupyter-widgets/base",
      "_view_module_version": "1.2.0",
      "_view_name": "StyleView",
      "description_width": ""
     }
    },
    "084bf87cd4f9453c87857597c4d1fccb": {
     "model_module": "@jupyter-widgets/controls",
     "model_module_version": "1.5.0",
     "model_name": "DescriptionStyleModel",
     "state": {
      "_model_module": "@jupyter-widgets/controls",
      "_model_module_version": "1.5.0",
      "_model_name": "DescriptionStyleModel",
      "_view_count": null,
      "_view_module": "@jupyter-widgets/base",
      "_view_module_version": "1.2.0",
      "_view_name": "StyleView",
      "description_width": ""
     }
    },
    "08ce9826caa14c6daa2908f883c582eb": {
     "model_module": "@jupyter-widgets/controls",
     "model_module_version": "1.5.0",
     "model_name": "HBoxModel",
     "state": {
      "_dom_classes": [],
      "_model_module": "@jupyter-widgets/controls",
      "_model_module_version": "1.5.0",
      "_model_name": "HBoxModel",
      "_view_count": null,
      "_view_module": "@jupyter-widgets/controls",
      "_view_module_version": "1.5.0",
      "_view_name": "HBoxView",
      "box_style": "",
      "children": [
       "IPY_MODEL_b05545b4d1ee4762acc1daee892c947e",
       "IPY_MODEL_369b820edc6146bfb9706096da3dbae0",
       "IPY_MODEL_acae4637a4f5471196debb60bc336d2a"
      ],
      "layout": "IPY_MODEL_d538d6ec91484b8e8c3fb36f3f064cc1"
     }
    },
    "0f1b6e35870745dca8c69a55e20479f4": {
     "model_module": "@jupyter-widgets/controls",
     "model_module_version": "1.5.0",
     "model_name": "ProgressStyleModel",
     "state": {
      "_model_module": "@jupyter-widgets/controls",
      "_model_module_version": "1.5.0",
      "_model_name": "ProgressStyleModel",
      "_view_count": null,
      "_view_module": "@jupyter-widgets/base",
      "_view_module_version": "1.2.0",
      "_view_name": "StyleView",
      "bar_color": null,
      "description_width": ""
     }
    },
    "10a41d40af4c402382e75aca0ea32262": {
     "model_module": "@jupyter-widgets/base",
     "model_module_version": "1.2.0",
     "model_name": "LayoutModel",
     "state": {
      "_model_module": "@jupyter-widgets/base",
      "_model_module_version": "1.2.0",
      "_model_name": "LayoutModel",
      "_view_count": null,
      "_view_module": "@jupyter-widgets/base",
      "_view_module_version": "1.2.0",
      "_view_name": "LayoutView",
      "align_content": null,
      "align_items": null,
      "align_self": null,
      "border": null,
      "bottom": null,
      "display": null,
      "flex": null,
      "flex_flow": null,
      "grid_area": null,
      "grid_auto_columns": null,
      "grid_auto_flow": null,
      "grid_auto_rows": null,
      "grid_column": null,
      "grid_gap": null,
      "grid_row": null,
      "grid_template_areas": null,
      "grid_template_columns": null,
      "grid_template_rows": null,
      "height": null,
      "justify_content": null,
      "justify_items": null,
      "left": null,
      "margin": null,
      "max_height": null,
      "max_width": null,
      "min_height": null,
      "min_width": null,
      "object_fit": null,
      "object_position": null,
      "order": null,
      "overflow": null,
      "overflow_x": null,
      "overflow_y": null,
      "padding": null,
      "right": null,
      "top": null,
      "visibility": null,
      "width": null
     }
    },
    "11d1ad1f15934dd6ba0927eded9eb482": {
     "model_module": "@jupyter-widgets/controls",
     "model_module_version": "1.5.0",
     "model_name": "HBoxModel",
     "state": {
      "_dom_classes": [],
      "_model_module": "@jupyter-widgets/controls",
      "_model_module_version": "1.5.0",
      "_model_name": "HBoxModel",
      "_view_count": null,
      "_view_module": "@jupyter-widgets/controls",
      "_view_module_version": "1.5.0",
      "_view_name": "HBoxView",
      "box_style": "",
      "children": [
       "IPY_MODEL_9f10b5496a37428ab7c29e49a027119f",
       "IPY_MODEL_230b7219f02e4d0eb99c3d47b24affc2",
       "IPY_MODEL_72d45e74d58c48e2b05b1c07ec6ee22b"
      ],
      "layout": "IPY_MODEL_2a07e55c2cf34e538e1f058fbfa37e6d"
     }
    },
    "1392f59a3f094d3aa41445951462b3e3": {
     "model_module": "@jupyter-widgets/base",
     "model_module_version": "1.2.0",
     "model_name": "LayoutModel",
     "state": {
      "_model_module": "@jupyter-widgets/base",
      "_model_module_version": "1.2.0",
      "_model_name": "LayoutModel",
      "_view_count": null,
      "_view_module": "@jupyter-widgets/base",
      "_view_module_version": "1.2.0",
      "_view_name": "LayoutView",
      "align_content": null,
      "align_items": null,
      "align_self": null,
      "border": null,
      "bottom": null,
      "display": null,
      "flex": null,
      "flex_flow": null,
      "grid_area": null,
      "grid_auto_columns": null,
      "grid_auto_flow": null,
      "grid_auto_rows": null,
      "grid_column": null,
      "grid_gap": null,
      "grid_row": null,
      "grid_template_areas": null,
      "grid_template_columns": null,
      "grid_template_rows": null,
      "height": null,
      "justify_content": null,
      "justify_items": null,
      "left": null,
      "margin": null,
      "max_height": null,
      "max_width": null,
      "min_height": null,
      "min_width": null,
      "object_fit": null,
      "object_position": null,
      "order": null,
      "overflow": null,
      "overflow_x": null,
      "overflow_y": null,
      "padding": null,
      "right": null,
      "top": null,
      "visibility": null,
      "width": null
     }
    },
    "17ccde9343494245913fd14e8da6f441": {
     "model_module": "@jupyter-widgets/controls",
     "model_module_version": "1.5.0",
     "model_name": "ProgressStyleModel",
     "state": {
      "_model_module": "@jupyter-widgets/controls",
      "_model_module_version": "1.5.0",
      "_model_name": "ProgressStyleModel",
      "_view_count": null,
      "_view_module": "@jupyter-widgets/base",
      "_view_module_version": "1.2.0",
      "_view_name": "StyleView",
      "bar_color": null,
      "description_width": ""
     }
    },
    "17f53303616847389e991ff49862fff0": {
     "model_module": "@jupyter-widgets/controls",
     "model_module_version": "1.5.0",
     "model_name": "DescriptionStyleModel",
     "state": {
      "_model_module": "@jupyter-widgets/controls",
      "_model_module_version": "1.5.0",
      "_model_name": "DescriptionStyleModel",
      "_view_count": null,
      "_view_module": "@jupyter-widgets/base",
      "_view_module_version": "1.2.0",
      "_view_name": "StyleView",
      "description_width": ""
     }
    },
    "1c797d2175ec491b85995a7a31c1918b": {
     "model_module": "@jupyter-widgets/base",
     "model_module_version": "1.2.0",
     "model_name": "LayoutModel",
     "state": {
      "_model_module": "@jupyter-widgets/base",
      "_model_module_version": "1.2.0",
      "_model_name": "LayoutModel",
      "_view_count": null,
      "_view_module": "@jupyter-widgets/base",
      "_view_module_version": "1.2.0",
      "_view_name": "LayoutView",
      "align_content": null,
      "align_items": null,
      "align_self": null,
      "border": null,
      "bottom": null,
      "display": null,
      "flex": null,
      "flex_flow": null,
      "grid_area": null,
      "grid_auto_columns": null,
      "grid_auto_flow": null,
      "grid_auto_rows": null,
      "grid_column": null,
      "grid_gap": null,
      "grid_row": null,
      "grid_template_areas": null,
      "grid_template_columns": null,
      "grid_template_rows": null,
      "height": null,
      "justify_content": null,
      "justify_items": null,
      "left": null,
      "margin": null,
      "max_height": null,
      "max_width": null,
      "min_height": null,
      "min_width": null,
      "object_fit": null,
      "object_position": null,
      "order": null,
      "overflow": null,
      "overflow_x": null,
      "overflow_y": null,
      "padding": null,
      "right": null,
      "top": null,
      "visibility": "hidden",
      "width": null
     }
    },
    "1c971da415d14da48385796643d21a1f": {
     "model_module": "@jupyter-widgets/controls",
     "model_module_version": "1.5.0",
     "model_name": "HTMLModel",
     "state": {
      "_dom_classes": [],
      "_model_module": "@jupyter-widgets/controls",
      "_model_module_version": "1.5.0",
      "_model_name": "HTMLModel",
      "_view_count": null,
      "_view_module": "@jupyter-widgets/controls",
      "_view_module_version": "1.5.0",
      "_view_name": "HTMLView",
      "description": "",
      "description_tooltip": null,
      "layout": "IPY_MODEL_428a30ceff55484b980e7f86d43601da",
      "placeholder": "​",
      "style": "IPY_MODEL_084bf87cd4f9453c87857597c4d1fccb",
      "value": "Generating splits...: 100%"
     }
    },
    "230b7219f02e4d0eb99c3d47b24affc2": {
     "model_module": "@jupyter-widgets/controls",
     "model_module_version": "1.5.0",
     "model_name": "FloatProgressModel",
     "state": {
      "_dom_classes": [],
      "_model_module": "@jupyter-widgets/controls",
      "_model_module_version": "1.5.0",
      "_model_name": "FloatProgressModel",
      "_view_count": null,
      "_view_module": "@jupyter-widgets/controls",
      "_view_module_version": "1.5.0",
      "_view_name": "ProgressView",
      "bar_style": "success",
      "description": "",
      "description_tooltip": null,
      "layout": "IPY_MODEL_3714f949534a404c86bcea465e6d915b",
      "max": 1,
      "min": 0,
      "orientation": "horizontal",
      "style": "IPY_MODEL_2be9741201fc4f85bc07d1dc6ba978e5",
      "value": 1
     }
    },
    "2a07e55c2cf34e538e1f058fbfa37e6d": {
     "model_module": "@jupyter-widgets/base",
     "model_module_version": "1.2.0",
     "model_name": "LayoutModel",
     "state": {
      "_model_module": "@jupyter-widgets/base",
      "_model_module_version": "1.2.0",
      "_model_name": "LayoutModel",
      "_view_count": null,
      "_view_module": "@jupyter-widgets/base",
      "_view_module_version": "1.2.0",
      "_view_name": "LayoutView",
      "align_content": null,
      "align_items": null,
      "align_self": null,
      "border": null,
      "bottom": null,
      "display": null,
      "flex": null,
      "flex_flow": null,
      "grid_area": null,
      "grid_auto_columns": null,
      "grid_auto_flow": null,
      "grid_auto_rows": null,
      "grid_column": null,
      "grid_gap": null,
      "grid_row": null,
      "grid_template_areas": null,
      "grid_template_columns": null,
      "grid_template_rows": null,
      "height": null,
      "justify_content": null,
      "justify_items": null,
      "left": null,
      "margin": null,
      "max_height": null,
      "max_width": null,
      "min_height": null,
      "min_width": null,
      "object_fit": null,
      "object_position": null,
      "order": null,
      "overflow": null,
      "overflow_x": null,
      "overflow_y": null,
      "padding": null,
      "right": null,
      "top": null,
      "visibility": null,
      "width": null
     }
    },
    "2be9741201fc4f85bc07d1dc6ba978e5": {
     "model_module": "@jupyter-widgets/controls",
     "model_module_version": "1.5.0",
     "model_name": "ProgressStyleModel",
     "state": {
      "_model_module": "@jupyter-widgets/controls",
      "_model_module_version": "1.5.0",
      "_model_name": "ProgressStyleModel",
      "_view_count": null,
      "_view_module": "@jupyter-widgets/base",
      "_view_module_version": "1.2.0",
      "_view_name": "StyleView",
      "bar_color": null,
      "description_width": ""
     }
    },
    "2e468709a0d242d3abd298a2251fd1f1": {
     "model_module": "@jupyter-widgets/base",
     "model_module_version": "1.2.0",
     "model_name": "LayoutModel",
     "state": {
      "_model_module": "@jupyter-widgets/base",
      "_model_module_version": "1.2.0",
      "_model_name": "LayoutModel",
      "_view_count": null,
      "_view_module": "@jupyter-widgets/base",
      "_view_module_version": "1.2.0",
      "_view_name": "LayoutView",
      "align_content": null,
      "align_items": null,
      "align_self": null,
      "border": null,
      "bottom": null,
      "display": null,
      "flex": null,
      "flex_flow": null,
      "grid_area": null,
      "grid_auto_columns": null,
      "grid_auto_flow": null,
      "grid_auto_rows": null,
      "grid_column": null,
      "grid_gap": null,
      "grid_row": null,
      "grid_template_areas": null,
      "grid_template_columns": null,
      "grid_template_rows": null,
      "height": null,
      "justify_content": null,
      "justify_items": null,
      "left": null,
      "margin": null,
      "max_height": null,
      "max_width": null,
      "min_height": null,
      "min_width": null,
      "object_fit": null,
      "object_position": null,
      "order": null,
      "overflow": null,
      "overflow_x": null,
      "overflow_y": null,
      "padding": null,
      "right": null,
      "top": null,
      "visibility": "hidden",
      "width": null
     }
    },
    "34984137791d4482aeafbb84b5d2609e": {
     "model_module": "@jupyter-widgets/base",
     "model_module_version": "1.2.0",
     "model_name": "LayoutModel",
     "state": {
      "_model_module": "@jupyter-widgets/base",
      "_model_module_version": "1.2.0",
      "_model_name": "LayoutModel",
      "_view_count": null,
      "_view_module": "@jupyter-widgets/base",
      "_view_module_version": "1.2.0",
      "_view_name": "LayoutView",
      "align_content": null,
      "align_items": null,
      "align_self": null,
      "border": null,
      "bottom": null,
      "display": null,
      "flex": null,
      "flex_flow": null,
      "grid_area": null,
      "grid_auto_columns": null,
      "grid_auto_flow": null,
      "grid_auto_rows": null,
      "grid_column": null,
      "grid_gap": null,
      "grid_row": null,
      "grid_template_areas": null,
      "grid_template_columns": null,
      "grid_template_rows": null,
      "height": null,
      "justify_content": null,
      "justify_items": null,
      "left": null,
      "margin": null,
      "max_height": null,
      "max_width": null,
      "min_height": null,
      "min_width": null,
      "object_fit": null,
      "object_position": null,
      "order": null,
      "overflow": null,
      "overflow_x": null,
      "overflow_y": null,
      "padding": null,
      "right": null,
      "top": null,
      "visibility": null,
      "width": null
     }
    },
    "369b820edc6146bfb9706096da3dbae0": {
     "model_module": "@jupyter-widgets/controls",
     "model_module_version": "1.5.0",
     "model_name": "FloatProgressModel",
     "state": {
      "_dom_classes": [],
      "_model_module": "@jupyter-widgets/controls",
      "_model_module_version": "1.5.0",
      "_model_name": "FloatProgressModel",
      "_view_count": null,
      "_view_module": "@jupyter-widgets/controls",
      "_view_module_version": "1.5.0",
      "_view_name": "ProgressView",
      "bar_style": "success",
      "description": "",
      "description_tooltip": null,
      "layout": "IPY_MODEL_5aeffbfa240b42948ecba8274127086f",
      "max": 1,
      "min": 0,
      "orientation": "horizontal",
      "style": "IPY_MODEL_ceaf3b3e94e947249a21e015c83fe981",
      "value": 1
     }
    },
    "3714f949534a404c86bcea465e6d915b": {
     "model_module": "@jupyter-widgets/base",
     "model_module_version": "1.2.0",
     "model_name": "LayoutModel",
     "state": {
      "_model_module": "@jupyter-widgets/base",
      "_model_module_version": "1.2.0",
      "_model_name": "LayoutModel",
      "_view_count": null,
      "_view_module": "@jupyter-widgets/base",
      "_view_module_version": "1.2.0",
      "_view_name": "LayoutView",
      "align_content": null,
      "align_items": null,
      "align_self": null,
      "border": null,
      "bottom": null,
      "display": null,
      "flex": null,
      "flex_flow": null,
      "grid_area": null,
      "grid_auto_columns": null,
      "grid_auto_flow": null,
      "grid_auto_rows": null,
      "grid_column": null,
      "grid_gap": null,
      "grid_row": null,
      "grid_template_areas": null,
      "grid_template_columns": null,
      "grid_template_rows": null,
      "height": null,
      "justify_content": null,
      "justify_items": null,
      "left": null,
      "margin": null,
      "max_height": null,
      "max_width": null,
      "min_height": null,
      "min_width": null,
      "object_fit": null,
      "object_position": null,
      "order": null,
      "overflow": null,
      "overflow_x": null,
      "overflow_y": null,
      "padding": null,
      "right": null,
      "top": null,
      "visibility": null,
      "width": "20px"
     }
    },
    "3ac6b7f9994346a8a85e96a12eb0dfdd": {
     "model_module": "@jupyter-widgets/controls",
     "model_module_version": "1.5.0",
     "model_name": "DescriptionStyleModel",
     "state": {
      "_model_module": "@jupyter-widgets/controls",
      "_model_module_version": "1.5.0",
      "_model_name": "DescriptionStyleModel",
      "_view_count": null,
      "_view_module": "@jupyter-widgets/base",
      "_view_module_version": "1.2.0",
      "_view_name": "StyleView",
      "description_width": ""
     }
    },
    "3caf3b720c81480e8df1175a95532101": {
     "model_module": "@jupyter-widgets/controls",
     "model_module_version": "1.5.0",
     "model_name": "FloatProgressModel",
     "state": {
      "_dom_classes": [],
      "_model_module": "@jupyter-widgets/controls",
      "_model_module_version": "1.5.0",
      "_model_name": "FloatProgressModel",
      "_view_count": null,
      "_view_module": "@jupyter-widgets/controls",
      "_view_module_version": "1.5.0",
      "_view_name": "ProgressView",
      "bar_style": "",
      "description": "",
      "description_tooltip": null,
      "layout": "IPY_MODEL_dbdd9582ca0c4b59acbd8b76c34e36e1",
      "max": 7500,
      "min": 0,
      "orientation": "horizontal",
      "style": "IPY_MODEL_55ae030d2c9946a1be7dbfb25d0b8c0e",
      "value": 7500
     }
    },
    "3eb4a86ca0b0438e907449f669ded52d": {
     "model_module": "@jupyter-widgets/controls",
     "model_module_version": "1.5.0",
     "model_name": "DescriptionStyleModel",
     "state": {
      "_model_module": "@jupyter-widgets/controls",
      "_model_module_version": "1.5.0",
      "_model_name": "DescriptionStyleModel",
      "_view_count": null,
      "_view_module": "@jupyter-widgets/base",
      "_view_module_version": "1.2.0",
      "_view_name": "StyleView",
      "description_width": ""
     }
    },
    "428a30ceff55484b980e7f86d43601da": {
     "model_module": "@jupyter-widgets/base",
     "model_module_version": "1.2.0",
     "model_name": "LayoutModel",
     "state": {
      "_model_module": "@jupyter-widgets/base",
      "_model_module_version": "1.2.0",
      "_model_name": "LayoutModel",
      "_view_count": null,
      "_view_module": "@jupyter-widgets/base",
      "_view_module_version": "1.2.0",
      "_view_name": "LayoutView",
      "align_content": null,
      "align_items": null,
      "align_self": null,
      "border": null,
      "bottom": null,
      "display": null,
      "flex": null,
      "flex_flow": null,
      "grid_area": null,
      "grid_auto_columns": null,
      "grid_auto_flow": null,
      "grid_auto_rows": null,
      "grid_column": null,
      "grid_gap": null,
      "grid_row": null,
      "grid_template_areas": null,
      "grid_template_columns": null,
      "grid_template_rows": null,
      "height": null,
      "justify_content": null,
      "justify_items": null,
      "left": null,
      "margin": null,
      "max_height": null,
      "max_width": null,
      "min_height": null,
      "min_width": null,
      "object_fit": null,
      "object_position": null,
      "order": null,
      "overflow": null,
      "overflow_x": null,
      "overflow_y": null,
      "padding": null,
      "right": null,
      "top": null,
      "visibility": null,
      "width": null
     }
    },
    "55ae030d2c9946a1be7dbfb25d0b8c0e": {
     "model_module": "@jupyter-widgets/controls",
     "model_module_version": "1.5.0",
     "model_name": "ProgressStyleModel",
     "state": {
      "_model_module": "@jupyter-widgets/controls",
      "_model_module_version": "1.5.0",
      "_model_name": "ProgressStyleModel",
      "_view_count": null,
      "_view_module": "@jupyter-widgets/base",
      "_view_module_version": "1.2.0",
      "_view_name": "StyleView",
      "bar_color": null,
      "description_width": ""
     }
    },
    "566e0d9be1234984810e38981a9065b7": {
     "model_module": "@jupyter-widgets/controls",
     "model_module_version": "1.5.0",
     "model_name": "DescriptionStyleModel",
     "state": {
      "_model_module": "@jupyter-widgets/controls",
      "_model_module_version": "1.5.0",
      "_model_name": "DescriptionStyleModel",
      "_view_count": null,
      "_view_module": "@jupyter-widgets/base",
      "_view_module_version": "1.2.0",
      "_view_name": "StyleView",
      "description_width": ""
     }
    },
    "5aeffbfa240b42948ecba8274127086f": {
     "model_module": "@jupyter-widgets/base",
     "model_module_version": "1.2.0",
     "model_name": "LayoutModel",
     "state": {
      "_model_module": "@jupyter-widgets/base",
      "_model_module_version": "1.2.0",
      "_model_name": "LayoutModel",
      "_view_count": null,
      "_view_module": "@jupyter-widgets/base",
      "_view_module_version": "1.2.0",
      "_view_name": "LayoutView",
      "align_content": null,
      "align_items": null,
      "align_self": null,
      "border": null,
      "bottom": null,
      "display": null,
      "flex": null,
      "flex_flow": null,
      "grid_area": null,
      "grid_auto_columns": null,
      "grid_auto_flow": null,
      "grid_auto_rows": null,
      "grid_column": null,
      "grid_gap": null,
      "grid_row": null,
      "grid_template_areas": null,
      "grid_template_columns": null,
      "grid_template_rows": null,
      "height": null,
      "justify_content": null,
      "justify_items": null,
      "left": null,
      "margin": null,
      "max_height": null,
      "max_width": null,
      "min_height": null,
      "min_width": null,
      "object_fit": null,
      "object_position": null,
      "order": null,
      "overflow": null,
      "overflow_x": null,
      "overflow_y": null,
      "padding": null,
      "right": null,
      "top": null,
      "visibility": null,
      "width": "20px"
     }
    },
    "5af2edc636114b749f31932edf58dafe": {
     "model_module": "@jupyter-widgets/base",
     "model_module_version": "1.2.0",
     "model_name": "LayoutModel",
     "state": {
      "_model_module": "@jupyter-widgets/base",
      "_model_module_version": "1.2.0",
      "_model_name": "LayoutModel",
      "_view_count": null,
      "_view_module": "@jupyter-widgets/base",
      "_view_module_version": "1.2.0",
      "_view_name": "LayoutView",
      "align_content": null,
      "align_items": null,
      "align_self": null,
      "border": null,
      "bottom": null,
      "display": null,
      "flex": null,
      "flex_flow": null,
      "grid_area": null,
      "grid_auto_columns": null,
      "grid_auto_flow": null,
      "grid_auto_rows": null,
      "grid_column": null,
      "grid_gap": null,
      "grid_row": null,
      "grid_template_areas": null,
      "grid_template_columns": null,
      "grid_template_rows": null,
      "height": null,
      "justify_content": null,
      "justify_items": null,
      "left": null,
      "margin": null,
      "max_height": null,
      "max_width": null,
      "min_height": null,
      "min_width": null,
      "object_fit": null,
      "object_position": null,
      "order": null,
      "overflow": null,
      "overflow_x": null,
      "overflow_y": null,
      "padding": null,
      "right": null,
      "top": null,
      "visibility": null,
      "width": null
     }
    },
    "64aa2fcbf1b04b8781eb2f9eb81ea1c6": {
     "model_module": "@jupyter-widgets/controls",
     "model_module_version": "1.5.0",
     "model_name": "HTMLModel",
     "state": {
      "_dom_classes": [],
      "_model_module": "@jupyter-widgets/controls",
      "_model_module_version": "1.5.0",
      "_model_name": "HTMLModel",
      "_view_count": null,
      "_view_module": "@jupyter-widgets/controls",
      "_view_module_version": "1.5.0",
      "_view_name": "HTMLView",
      "description": "",
      "description_tooltip": null,
      "layout": "IPY_MODEL_b39f15e2d701411fa48ebc0a8780fdcb",
      "placeholder": "​",
      "style": "IPY_MODEL_f0064eaf7e594c178ed07793766341b0",
      "value": " 7476/7500 [00:06&lt;00:00, 1324.83 examples/s]"
     }
    },
    "66901d34b24a4419a5fea4634a8988dd": {
     "model_module": "@jupyter-widgets/base",
     "model_module_version": "1.2.0",
     "model_name": "LayoutModel",
     "state": {
      "_model_module": "@jupyter-widgets/base",
      "_model_module_version": "1.2.0",
      "_model_name": "LayoutModel",
      "_view_count": null,
      "_view_module": "@jupyter-widgets/base",
      "_view_module_version": "1.2.0",
      "_view_name": "LayoutView",
      "align_content": null,
      "align_items": null,
      "align_self": null,
      "border": null,
      "bottom": null,
      "display": null,
      "flex": null,
      "flex_flow": null,
      "grid_area": null,
      "grid_auto_columns": null,
      "grid_auto_flow": null,
      "grid_auto_rows": null,
      "grid_column": null,
      "grid_gap": null,
      "grid_row": null,
      "grid_template_areas": null,
      "grid_template_columns": null,
      "grid_template_rows": null,
      "height": null,
      "justify_content": null,
      "justify_items": null,
      "left": null,
      "margin": null,
      "max_height": null,
      "max_width": null,
      "min_height": null,
      "min_width": null,
      "object_fit": null,
      "object_position": null,
      "order": null,
      "overflow": null,
      "overflow_x": null,
      "overflow_y": null,
      "padding": null,
      "right": null,
      "top": null,
      "visibility": null,
      "width": null
     }
    },
    "6da372f6688e4cb48b95a02fec82bfd7": {
     "model_module": "@jupyter-widgets/controls",
     "model_module_version": "1.5.0",
     "model_name": "HTMLModel",
     "state": {
      "_dom_classes": [],
      "_model_module": "@jupyter-widgets/controls",
      "_model_module_version": "1.5.0",
      "_model_name": "HTMLModel",
      "_view_count": null,
      "_view_module": "@jupyter-widgets/controls",
      "_view_module_version": "1.5.0",
      "_view_name": "HTMLView",
      "description": "",
      "description_tooltip": null,
      "layout": "IPY_MODEL_6de6ade38dd54a6ebd43aa3b737b7223",
      "placeholder": "​",
      "style": "IPY_MODEL_81a93e4867544638931b48c4d5970e0d",
      "value": " 7406/7500 [00:02&lt;00:00, 2854.11 examples/s]"
     }
    },
    "6de6ade38dd54a6ebd43aa3b737b7223": {
     "model_module": "@jupyter-widgets/base",
     "model_module_version": "1.2.0",
     "model_name": "LayoutModel",
     "state": {
      "_model_module": "@jupyter-widgets/base",
      "_model_module_version": "1.2.0",
      "_model_name": "LayoutModel",
      "_view_count": null,
      "_view_module": "@jupyter-widgets/base",
      "_view_module_version": "1.2.0",
      "_view_name": "LayoutView",
      "align_content": null,
      "align_items": null,
      "align_self": null,
      "border": null,
      "bottom": null,
      "display": null,
      "flex": null,
      "flex_flow": null,
      "grid_area": null,
      "grid_auto_columns": null,
      "grid_auto_flow": null,
      "grid_auto_rows": null,
      "grid_column": null,
      "grid_gap": null,
      "grid_row": null,
      "grid_template_areas": null,
      "grid_template_columns": null,
      "grid_template_rows": null,
      "height": null,
      "justify_content": null,
      "justify_items": null,
      "left": null,
      "margin": null,
      "max_height": null,
      "max_width": null,
      "min_height": null,
      "min_width": null,
      "object_fit": null,
      "object_position": null,
      "order": null,
      "overflow": null,
      "overflow_x": null,
      "overflow_y": null,
      "padding": null,
      "right": null,
      "top": null,
      "visibility": null,
      "width": null
     }
    },
    "72d45e74d58c48e2b05b1c07ec6ee22b": {
     "model_module": "@jupyter-widgets/controls",
     "model_module_version": "1.5.0",
     "model_name": "HTMLModel",
     "state": {
      "_dom_classes": [],
      "_model_module": "@jupyter-widgets/controls",
      "_model_module_version": "1.5.0",
      "_model_name": "HTMLModel",
      "_view_count": null,
      "_view_module": "@jupyter-widgets/controls",
      "_view_module_version": "1.5.0",
      "_view_name": "HTMLView",
      "description": "",
      "description_tooltip": null,
      "layout": "IPY_MODEL_66901d34b24a4419a5fea4634a8988dd",
      "placeholder": "​",
      "style": "IPY_MODEL_d559608c2f214b549abed7de617678a1",
      "value": " 655/655 [00:49&lt;00:00, 16.26 MiB/s]"
     }
    },
    "73a4a895b1ab481eb705c9b41dd2e4fd": {
     "model_module": "@jupyter-widgets/base",
     "model_module_version": "1.2.0",
     "model_name": "LayoutModel",
     "state": {
      "_model_module": "@jupyter-widgets/base",
      "_model_module_version": "1.2.0",
      "_model_name": "LayoutModel",
      "_view_count": null,
      "_view_module": "@jupyter-widgets/base",
      "_view_module_version": "1.2.0",
      "_view_name": "LayoutView",
      "align_content": null,
      "align_items": null,
      "align_self": null,
      "border": null,
      "bottom": null,
      "display": null,
      "flex": null,
      "flex_flow": null,
      "grid_area": null,
      "grid_auto_columns": null,
      "grid_auto_flow": null,
      "grid_auto_rows": null,
      "grid_column": null,
      "grid_gap": null,
      "grid_row": null,
      "grid_template_areas": null,
      "grid_template_columns": null,
      "grid_template_rows": null,
      "height": null,
      "justify_content": null,
      "justify_items": null,
      "left": null,
      "margin": null,
      "max_height": null,
      "max_width": null,
      "min_height": null,
      "min_width": null,
      "object_fit": null,
      "object_position": null,
      "order": null,
      "overflow": null,
      "overflow_x": null,
      "overflow_y": null,
      "padding": null,
      "right": null,
      "top": null,
      "visibility": null,
      "width": null
     }
    },
    "81a93e4867544638931b48c4d5970e0d": {
     "model_module": "@jupyter-widgets/controls",
     "model_module_version": "1.5.0",
     "model_name": "DescriptionStyleModel",
     "state": {
      "_model_module": "@jupyter-widgets/controls",
      "_model_module_version": "1.5.0",
      "_model_name": "DescriptionStyleModel",
      "_view_count": null,
      "_view_module": "@jupyter-widgets/base",
      "_view_module_version": "1.2.0",
      "_view_name": "StyleView",
      "description_width": ""
     }
    },
    "85b0a5799de9441995ac7a12542a34ea": {
     "model_module": "@jupyter-widgets/controls",
     "model_module_version": "1.5.0",
     "model_name": "HBoxModel",
     "state": {
      "_dom_classes": [],
      "_model_module": "@jupyter-widgets/controls",
      "_model_module_version": "1.5.0",
      "_model_name": "HBoxModel",
      "_view_count": null,
      "_view_module": "@jupyter-widgets/controls",
      "_view_module_version": "1.5.0",
      "_view_name": "HBoxView",
      "box_style": "",
      "children": [
       "IPY_MODEL_ba166ed9c59a432d9cdcc1d91ddb7b1a",
       "IPY_MODEL_3caf3b720c81480e8df1175a95532101",
       "IPY_MODEL_64aa2fcbf1b04b8781eb2f9eb81ea1c6"
      ],
      "layout": "IPY_MODEL_1c797d2175ec491b85995a7a31c1918b"
     }
    },
    "8692238db4f94bb2a00def4eb14c0796": {
     "model_module": "@jupyter-widgets/base",
     "model_module_version": "1.2.0",
     "model_name": "LayoutModel",
     "state": {
      "_model_module": "@jupyter-widgets/base",
      "_model_module_version": "1.2.0",
      "_model_name": "LayoutModel",
      "_view_count": null,
      "_view_module": "@jupyter-widgets/base",
      "_view_module_version": "1.2.0",
      "_view_name": "LayoutView",
      "align_content": null,
      "align_items": null,
      "align_self": null,
      "border": null,
      "bottom": null,
      "display": null,
      "flex": null,
      "flex_flow": null,
      "grid_area": null,
      "grid_auto_columns": null,
      "grid_auto_flow": null,
      "grid_auto_rows": null,
      "grid_column": null,
      "grid_gap": null,
      "grid_row": null,
      "grid_template_areas": null,
      "grid_template_columns": null,
      "grid_template_rows": null,
      "height": null,
      "justify_content": null,
      "justify_items": null,
      "left": null,
      "margin": null,
      "max_height": null,
      "max_width": null,
      "min_height": null,
      "min_width": null,
      "object_fit": null,
      "object_position": null,
      "order": null,
      "overflow": null,
      "overflow_x": null,
      "overflow_y": null,
      "padding": null,
      "right": null,
      "top": null,
      "visibility": null,
      "width": null
     }
    },
    "8c22a799d34842bab68e9ef07d603539": {
     "model_module": "@jupyter-widgets/controls",
     "model_module_version": "1.5.0",
     "model_name": "DescriptionStyleModel",
     "state": {
      "_model_module": "@jupyter-widgets/controls",
      "_model_module_version": "1.5.0",
      "_model_name": "DescriptionStyleModel",
      "_view_count": null,
      "_view_module": "@jupyter-widgets/base",
      "_view_module_version": "1.2.0",
      "_view_name": "StyleView",
      "description_width": ""
     }
    },
    "8e371822c5a942fc85cbcdb8af7f2c99": {
     "model_module": "@jupyter-widgets/controls",
     "model_module_version": "1.5.0",
     "model_name": "HBoxModel",
     "state": {
      "_dom_classes": [],
      "_model_module": "@jupyter-widgets/controls",
      "_model_module_version": "1.5.0",
      "_model_name": "HBoxModel",
      "_view_count": null,
      "_view_module": "@jupyter-widgets/controls",
      "_view_module_version": "1.5.0",
      "_view_name": "HBoxView",
      "box_style": "",
      "children": [
       "IPY_MODEL_1c971da415d14da48385796643d21a1f",
       "IPY_MODEL_949f5a2ed4fd4c0c85f673b118c98134",
       "IPY_MODEL_e82882d11c1646fea4bc7a9dbf037356"
      ],
      "layout": "IPY_MODEL_2e468709a0d242d3abd298a2251fd1f1"
     }
    },
    "8ec56426dc994965ac26c3433cf6432f": {
     "model_module": "@jupyter-widgets/controls",
     "model_module_version": "1.5.0",
     "model_name": "DescriptionStyleModel",
     "state": {
      "_model_module": "@jupyter-widgets/controls",
      "_model_module_version": "1.5.0",
      "_model_name": "DescriptionStyleModel",
      "_view_count": null,
      "_view_module": "@jupyter-widgets/base",
      "_view_module_version": "1.2.0",
      "_view_name": "StyleView",
      "description_width": ""
     }
    },
    "920551c01360442f8689fbba6531867d": {
     "model_module": "@jupyter-widgets/controls",
     "model_module_version": "1.5.0",
     "model_name": "HBoxModel",
     "state": {
      "_dom_classes": [],
      "_model_module": "@jupyter-widgets/controls",
      "_model_module_version": "1.5.0",
      "_model_name": "HBoxModel",
      "_view_count": null,
      "_view_module": "@jupyter-widgets/controls",
      "_view_module_version": "1.5.0",
      "_view_name": "HBoxView",
      "box_style": "",
      "children": [
       "IPY_MODEL_a8e5426512ce4a57916979fcfcf6a641",
       "IPY_MODEL_e9681650247f490fae9d5f582a96d9e5",
       "IPY_MODEL_6da372f6688e4cb48b95a02fec82bfd7"
      ],
      "layout": "IPY_MODEL_ce01118d3cf545f9b1f78555ded3af48"
     }
    },
    "949f5a2ed4fd4c0c85f673b118c98134": {
     "model_module": "@jupyter-widgets/controls",
     "model_module_version": "1.5.0",
     "model_name": "FloatProgressModel",
     "state": {
      "_dom_classes": [],
      "_model_module": "@jupyter-widgets/controls",
      "_model_module_version": "1.5.0",
      "_model_name": "FloatProgressModel",
      "_view_count": null,
      "_view_module": "@jupyter-widgets/controls",
      "_view_module_version": "1.5.0",
      "_view_name": "ProgressView",
      "bar_style": "",
      "description": "",
      "description_tooltip": null,
      "layout": "IPY_MODEL_34984137791d4482aeafbb84b5d2609e",
      "max": 1,
      "min": 0,
      "orientation": "horizontal",
      "style": "IPY_MODEL_17ccde9343494245913fd14e8da6f441",
      "value": 1
     }
    },
    "97403b480d5c4b8f8f637c74b91eb284": {
     "model_module": "@jupyter-widgets/base",
     "model_module_version": "1.2.0",
     "model_name": "LayoutModel",
     "state": {
      "_model_module": "@jupyter-widgets/base",
      "_model_module_version": "1.2.0",
      "_model_name": "LayoutModel",
      "_view_count": null,
      "_view_module": "@jupyter-widgets/base",
      "_view_module_version": "1.2.0",
      "_view_name": "LayoutView",
      "align_content": null,
      "align_items": null,
      "align_self": null,
      "border": null,
      "bottom": null,
      "display": null,
      "flex": null,
      "flex_flow": null,
      "grid_area": null,
      "grid_auto_columns": null,
      "grid_auto_flow": null,
      "grid_auto_rows": null,
      "grid_column": null,
      "grid_gap": null,
      "grid_row": null,
      "grid_template_areas": null,
      "grid_template_columns": null,
      "grid_template_rows": null,
      "height": null,
      "justify_content": null,
      "justify_items": null,
      "left": null,
      "margin": null,
      "max_height": null,
      "max_width": null,
      "min_height": null,
      "min_width": null,
      "object_fit": null,
      "object_position": null,
      "order": null,
      "overflow": null,
      "overflow_x": null,
      "overflow_y": null,
      "padding": null,
      "right": null,
      "top": null,
      "visibility": null,
      "width": null
     }
    },
    "9f10b5496a37428ab7c29e49a027119f": {
     "model_module": "@jupyter-widgets/controls",
     "model_module_version": "1.5.0",
     "model_name": "HTMLModel",
     "state": {
      "_dom_classes": [],
      "_model_module": "@jupyter-widgets/controls",
      "_model_module_version": "1.5.0",
      "_model_name": "HTMLModel",
      "_view_count": null,
      "_view_module": "@jupyter-widgets/controls",
      "_view_module_version": "1.5.0",
      "_view_name": "HTMLView",
      "description": "",
      "description_tooltip": null,
      "layout": "IPY_MODEL_8692238db4f94bb2a00def4eb14c0796",
      "placeholder": "​",
      "style": "IPY_MODEL_8ec56426dc994965ac26c3433cf6432f",
      "value": "Dl Size...: 100%"
     }
    },
    "a0e1033bb09a4ac68b26ab728fd18865": {
     "model_module": "@jupyter-widgets/base",
     "model_module_version": "1.2.0",
     "model_name": "LayoutModel",
     "state": {
      "_model_module": "@jupyter-widgets/base",
      "_model_module_version": "1.2.0",
      "_model_name": "LayoutModel",
      "_view_count": null,
      "_view_module": "@jupyter-widgets/base",
      "_view_module_version": "1.2.0",
      "_view_name": "LayoutView",
      "align_content": null,
      "align_items": null,
      "align_self": null,
      "border": null,
      "bottom": null,
      "display": null,
      "flex": null,
      "flex_flow": null,
      "grid_area": null,
      "grid_auto_columns": null,
      "grid_auto_flow": null,
      "grid_auto_rows": null,
      "grid_column": null,
      "grid_gap": null,
      "grid_row": null,
      "grid_template_areas": null,
      "grid_template_columns": null,
      "grid_template_rows": null,
      "height": null,
      "justify_content": null,
      "justify_items": null,
      "left": null,
      "margin": null,
      "max_height": null,
      "max_width": null,
      "min_height": null,
      "min_width": null,
      "object_fit": null,
      "object_position": null,
      "order": null,
      "overflow": null,
      "overflow_x": null,
      "overflow_y": null,
      "padding": null,
      "right": null,
      "top": null,
      "visibility": null,
      "width": null
     }
    },
    "a794eb8e75624085a06ffdae505f50c8": {
     "model_module": "@jupyter-widgets/controls",
     "model_module_version": "1.5.0",
     "model_name": "HTMLModel",
     "state": {
      "_dom_classes": [],
      "_model_module": "@jupyter-widgets/controls",
      "_model_module_version": "1.5.0",
      "_model_name": "HTMLModel",
      "_view_count": null,
      "_view_module": "@jupyter-widgets/controls",
      "_view_module_version": "1.5.0",
      "_view_name": "HTMLView",
      "description": "",
      "description_tooltip": null,
      "layout": "IPY_MODEL_a0e1033bb09a4ac68b26ab728fd18865",
      "placeholder": "​",
      "style": "IPY_MODEL_566e0d9be1234984810e38981a9065b7",
      "value": " 1/1 [00:49&lt;00:00, 49.54s/ file]"
     }
    },
    "a8e5426512ce4a57916979fcfcf6a641": {
     "model_module": "@jupyter-widgets/controls",
     "model_module_version": "1.5.0",
     "model_name": "HTMLModel",
     "state": {
      "_dom_classes": [],
      "_model_module": "@jupyter-widgets/controls",
      "_model_module_version": "1.5.0",
      "_model_name": "HTMLModel",
      "_view_count": null,
      "_view_module": "@jupyter-widgets/controls",
      "_view_module_version": "1.5.0",
      "_view_name": "HTMLView",
      "description": "",
      "description_tooltip": null,
      "layout": "IPY_MODEL_e757680a5b5545d88bd4a0ce33f16848",
      "placeholder": "​",
      "style": "IPY_MODEL_3ac6b7f9994346a8a85e96a12eb0dfdd",
      "value": "Shuffling ~/tensorflow_datasets/imagenet_a/0.1.0.incompleteEWVWVO/imagenet_a-test.tfrecord*...:  99%"
     }
    },
    "acae4637a4f5471196debb60bc336d2a": {
     "model_module": "@jupyter-widgets/controls",
     "model_module_version": "1.5.0",
     "model_name": "HTMLModel",
     "state": {
      "_dom_classes": [],
      "_model_module": "@jupyter-widgets/controls",
      "_model_module_version": "1.5.0",
      "_model_name": "HTMLModel",
      "_view_count": null,
      "_view_module": "@jupyter-widgets/controls",
      "_view_module_version": "1.5.0",
      "_view_name": "HTMLView",
      "description": "",
      "description_tooltip": null,
      "layout": "IPY_MODEL_10a41d40af4c402382e75aca0ea32262",
      "placeholder": "​",
      "style": "IPY_MODEL_17f53303616847389e991ff49862fff0",
      "value": " 1/1 [00:49&lt;00:00, 45.64s/ url]"
     }
    },
    "b05545b4d1ee4762acc1daee892c947e": {
     "model_module": "@jupyter-widgets/controls",
     "model_module_version": "1.5.0",
     "model_name": "HTMLModel",
     "state": {
      "_dom_classes": [],
      "_model_module": "@jupyter-widgets/controls",
      "_model_module_version": "1.5.0",
      "_model_name": "HTMLModel",
      "_view_count": null,
      "_view_module": "@jupyter-widgets/controls",
      "_view_module_version": "1.5.0",
      "_view_name": "HTMLView",
      "description": "",
      "description_tooltip": null,
      "layout": "IPY_MODEL_e91f1155a9fa440d88c7cf39505cd7ed",
      "placeholder": "​",
      "style": "IPY_MODEL_8c22a799d34842bab68e9ef07d603539",
      "value": "Dl Completed...: 100%"
     }
    },
    "b39f15e2d701411fa48ebc0a8780fdcb": {
     "model_module": "@jupyter-widgets/base",
     "model_module_version": "1.2.0",
     "model_name": "LayoutModel",
     "state": {
      "_model_module": "@jupyter-widgets/base",
      "_model_module_version": "1.2.0",
      "_model_name": "LayoutModel",
      "_view_count": null,
      "_view_module": "@jupyter-widgets/base",
      "_view_module_version": "1.2.0",
      "_view_name": "LayoutView",
      "align_content": null,
      "align_items": null,
      "align_self": null,
      "border": null,
      "bottom": null,
      "display": null,
      "flex": null,
      "flex_flow": null,
      "grid_area": null,
      "grid_auto_columns": null,
      "grid_auto_flow": null,
      "grid_auto_rows": null,
      "grid_column": null,
      "grid_gap": null,
      "grid_row": null,
      "grid_template_areas": null,
      "grid_template_columns": null,
      "grid_template_rows": null,
      "height": null,
      "justify_content": null,
      "justify_items": null,
      "left": null,
      "margin": null,
      "max_height": null,
      "max_width": null,
      "min_height": null,
      "min_width": null,
      "object_fit": null,
      "object_position": null,
      "order": null,
      "overflow": null,
      "overflow_x": null,
      "overflow_y": null,
      "padding": null,
      "right": null,
      "top": null,
      "visibility": null,
      "width": null
     }
    },
    "ba166ed9c59a432d9cdcc1d91ddb7b1a": {
     "model_module": "@jupyter-widgets/controls",
     "model_module_version": "1.5.0",
     "model_name": "HTMLModel",
     "state": {
      "_dom_classes": [],
      "_model_module": "@jupyter-widgets/controls",
      "_model_module_version": "1.5.0",
      "_model_name": "HTMLModel",
      "_view_count": null,
      "_view_module": "@jupyter-widgets/controls",
      "_view_module_version": "1.5.0",
      "_view_name": "HTMLView",
      "description": "",
      "description_tooltip": null,
      "layout": "IPY_MODEL_73a4a895b1ab481eb705c9b41dd2e4fd",
      "placeholder": "​",
      "style": "IPY_MODEL_beb400823b7341f282af5a132b4ab016",
      "value": "Generating test examples...: 100%"
     }
    },
    "beb400823b7341f282af5a132b4ab016": {
     "model_module": "@jupyter-widgets/controls",
     "model_module_version": "1.5.0",
     "model_name": "DescriptionStyleModel",
     "state": {
      "_model_module": "@jupyter-widgets/controls",
      "_model_module_version": "1.5.0",
      "_model_name": "DescriptionStyleModel",
      "_view_count": null,
      "_view_module": "@jupyter-widgets/base",
      "_view_module_version": "1.2.0",
      "_view_name": "StyleView",
      "description_width": ""
     }
    },
    "bef7dc1a14ad4c4097b6579ecff16680": {
     "model_module": "@jupyter-widgets/controls",
     "model_module_version": "1.5.0",
     "model_name": "ProgressStyleModel",
     "state": {
      "_model_module": "@jupyter-widgets/controls",
      "_model_module_version": "1.5.0",
      "_model_name": "ProgressStyleModel",
      "_view_count": null,
      "_view_module": "@jupyter-widgets/base",
      "_view_module_version": "1.2.0",
      "_view_name": "StyleView",
      "bar_color": null,
      "description_width": ""
     }
    },
    "c476d00aa0d340539615f2c510cd1d04": {
     "model_module": "@jupyter-widgets/controls",
     "model_module_version": "1.5.0",
     "model_name": "FloatProgressModel",
     "state": {
      "_dom_classes": [],
      "_model_module": "@jupyter-widgets/controls",
      "_model_module_version": "1.5.0",
      "_model_name": "FloatProgressModel",
      "_view_count": null,
      "_view_module": "@jupyter-widgets/controls",
      "_view_module_version": "1.5.0",
      "_view_name": "ProgressView",
      "bar_style": "success",
      "description": "",
      "description_tooltip": null,
      "layout": "IPY_MODEL_f3b59d97ac4d47b0be50fb6fe8c3ac08",
      "max": 1,
      "min": 0,
      "orientation": "horizontal",
      "style": "IPY_MODEL_0f1b6e35870745dca8c69a55e20479f4",
      "value": 1
     }
    },
    "ce01118d3cf545f9b1f78555ded3af48": {
     "model_module": "@jupyter-widgets/base",
     "model_module_version": "1.2.0",
     "model_name": "LayoutModel",
     "state": {
      "_model_module": "@jupyter-widgets/base",
      "_model_module_version": "1.2.0",
      "_model_name": "LayoutModel",
      "_view_count": null,
      "_view_module": "@jupyter-widgets/base",
      "_view_module_version": "1.2.0",
      "_view_name": "LayoutView",
      "align_content": null,
      "align_items": null,
      "align_self": null,
      "border": null,
      "bottom": null,
      "display": null,
      "flex": null,
      "flex_flow": null,
      "grid_area": null,
      "grid_auto_columns": null,
      "grid_auto_flow": null,
      "grid_auto_rows": null,
      "grid_column": null,
      "grid_gap": null,
      "grid_row": null,
      "grid_template_areas": null,
      "grid_template_columns": null,
      "grid_template_rows": null,
      "height": null,
      "justify_content": null,
      "justify_items": null,
      "left": null,
      "margin": null,
      "max_height": null,
      "max_width": null,
      "min_height": null,
      "min_width": null,
      "object_fit": null,
      "object_position": null,
      "order": null,
      "overflow": null,
      "overflow_x": null,
      "overflow_y": null,
      "padding": null,
      "right": null,
      "top": null,
      "visibility": "hidden",
      "width": null
     }
    },
    "ceaf3b3e94e947249a21e015c83fe981": {
     "model_module": "@jupyter-widgets/controls",
     "model_module_version": "1.5.0",
     "model_name": "ProgressStyleModel",
     "state": {
      "_model_module": "@jupyter-widgets/controls",
      "_model_module_version": "1.5.0",
      "_model_name": "ProgressStyleModel",
      "_view_count": null,
      "_view_module": "@jupyter-widgets/base",
      "_view_module_version": "1.2.0",
      "_view_name": "StyleView",
      "bar_color": null,
      "description_width": ""
     }
    },
    "d538d6ec91484b8e8c3fb36f3f064cc1": {
     "model_module": "@jupyter-widgets/base",
     "model_module_version": "1.2.0",
     "model_name": "LayoutModel",
     "state": {
      "_model_module": "@jupyter-widgets/base",
      "_model_module_version": "1.2.0",
      "_model_name": "LayoutModel",
      "_view_count": null,
      "_view_module": "@jupyter-widgets/base",
      "_view_module_version": "1.2.0",
      "_view_name": "LayoutView",
      "align_content": null,
      "align_items": null,
      "align_self": null,
      "border": null,
      "bottom": null,
      "display": null,
      "flex": null,
      "flex_flow": null,
      "grid_area": null,
      "grid_auto_columns": null,
      "grid_auto_flow": null,
      "grid_auto_rows": null,
      "grid_column": null,
      "grid_gap": null,
      "grid_row": null,
      "grid_template_areas": null,
      "grid_template_columns": null,
      "grid_template_rows": null,
      "height": null,
      "justify_content": null,
      "justify_items": null,
      "left": null,
      "margin": null,
      "max_height": null,
      "max_width": null,
      "min_height": null,
      "min_width": null,
      "object_fit": null,
      "object_position": null,
      "order": null,
      "overflow": null,
      "overflow_x": null,
      "overflow_y": null,
      "padding": null,
      "right": null,
      "top": null,
      "visibility": null,
      "width": null
     }
    },
    "d559608c2f214b549abed7de617678a1": {
     "model_module": "@jupyter-widgets/controls",
     "model_module_version": "1.5.0",
     "model_name": "DescriptionStyleModel",
     "state": {
      "_model_module": "@jupyter-widgets/controls",
      "_model_module_version": "1.5.0",
      "_model_name": "DescriptionStyleModel",
      "_view_count": null,
      "_view_module": "@jupyter-widgets/base",
      "_view_module_version": "1.2.0",
      "_view_name": "StyleView",
      "description_width": ""
     }
    },
    "dbdd9582ca0c4b59acbd8b76c34e36e1": {
     "model_module": "@jupyter-widgets/base",
     "model_module_version": "1.2.0",
     "model_name": "LayoutModel",
     "state": {
      "_model_module": "@jupyter-widgets/base",
      "_model_module_version": "1.2.0",
      "_model_name": "LayoutModel",
      "_view_count": null,
      "_view_module": "@jupyter-widgets/base",
      "_view_module_version": "1.2.0",
      "_view_name": "LayoutView",
      "align_content": null,
      "align_items": null,
      "align_self": null,
      "border": null,
      "bottom": null,
      "display": null,
      "flex": null,
      "flex_flow": null,
      "grid_area": null,
      "grid_auto_columns": null,
      "grid_auto_flow": null,
      "grid_auto_rows": null,
      "grid_column": null,
      "grid_gap": null,
      "grid_row": null,
      "grid_template_areas": null,
      "grid_template_columns": null,
      "grid_template_rows": null,
      "height": null,
      "justify_content": null,
      "justify_items": null,
      "left": null,
      "margin": null,
      "max_height": null,
      "max_width": null,
      "min_height": null,
      "min_width": null,
      "object_fit": null,
      "object_position": null,
      "order": null,
      "overflow": null,
      "overflow_x": null,
      "overflow_y": null,
      "padding": null,
      "right": null,
      "top": null,
      "visibility": null,
      "width": null
     }
    },
    "e757680a5b5545d88bd4a0ce33f16848": {
     "model_module": "@jupyter-widgets/base",
     "model_module_version": "1.2.0",
     "model_name": "LayoutModel",
     "state": {
      "_model_module": "@jupyter-widgets/base",
      "_model_module_version": "1.2.0",
      "_model_name": "LayoutModel",
      "_view_count": null,
      "_view_module": "@jupyter-widgets/base",
      "_view_module_version": "1.2.0",
      "_view_name": "LayoutView",
      "align_content": null,
      "align_items": null,
      "align_self": null,
      "border": null,
      "bottom": null,
      "display": null,
      "flex": null,
      "flex_flow": null,
      "grid_area": null,
      "grid_auto_columns": null,
      "grid_auto_flow": null,
      "grid_auto_rows": null,
      "grid_column": null,
      "grid_gap": null,
      "grid_row": null,
      "grid_template_areas": null,
      "grid_template_columns": null,
      "grid_template_rows": null,
      "height": null,
      "justify_content": null,
      "justify_items": null,
      "left": null,
      "margin": null,
      "max_height": null,
      "max_width": null,
      "min_height": null,
      "min_width": null,
      "object_fit": null,
      "object_position": null,
      "order": null,
      "overflow": null,
      "overflow_x": null,
      "overflow_y": null,
      "padding": null,
      "right": null,
      "top": null,
      "visibility": null,
      "width": null
     }
    },
    "e82882d11c1646fea4bc7a9dbf037356": {
     "model_module": "@jupyter-widgets/controls",
     "model_module_version": "1.5.0",
     "model_name": "HTMLModel",
     "state": {
      "_dom_classes": [],
      "_model_module": "@jupyter-widgets/controls",
      "_model_module_version": "1.5.0",
      "_model_name": "HTMLModel",
      "_view_count": null,
      "_view_module": "@jupyter-widgets/controls",
      "_view_module_version": "1.5.0",
      "_view_name": "HTMLView",
      "description": "",
      "description_tooltip": null,
      "layout": "IPY_MODEL_97403b480d5c4b8f8f637c74b91eb284",
      "placeholder": "​",
      "style": "IPY_MODEL_3eb4a86ca0b0438e907449f669ded52d",
      "value": " 1/1 [00:08&lt;00:00,  8.65s/ splits]"
     }
    },
    "e91f1155a9fa440d88c7cf39505cd7ed": {
     "model_module": "@jupyter-widgets/base",
     "model_module_version": "1.2.0",
     "model_name": "LayoutModel",
     "state": {
      "_model_module": "@jupyter-widgets/base",
      "_model_module_version": "1.2.0",
      "_model_name": "LayoutModel",
      "_view_count": null,
      "_view_module": "@jupyter-widgets/base",
      "_view_module_version": "1.2.0",
      "_view_name": "LayoutView",
      "align_content": null,
      "align_items": null,
      "align_self": null,
      "border": null,
      "bottom": null,
      "display": null,
      "flex": null,
      "flex_flow": null,
      "grid_area": null,
      "grid_auto_columns": null,
      "grid_auto_flow": null,
      "grid_auto_rows": null,
      "grid_column": null,
      "grid_gap": null,
      "grid_row": null,
      "grid_template_areas": null,
      "grid_template_columns": null,
      "grid_template_rows": null,
      "height": null,
      "justify_content": null,
      "justify_items": null,
      "left": null,
      "margin": null,
      "max_height": null,
      "max_width": null,
      "min_height": null,
      "min_width": null,
      "object_fit": null,
      "object_position": null,
      "order": null,
      "overflow": null,
      "overflow_x": null,
      "overflow_y": null,
      "padding": null,
      "right": null,
      "top": null,
      "visibility": null,
      "width": null
     }
    },
    "e9681650247f490fae9d5f582a96d9e5": {
     "model_module": "@jupyter-widgets/controls",
     "model_module_version": "1.5.0",
     "model_name": "FloatProgressModel",
     "state": {
      "_dom_classes": [],
      "_model_module": "@jupyter-widgets/controls",
      "_model_module_version": "1.5.0",
      "_model_name": "FloatProgressModel",
      "_view_count": null,
      "_view_module": "@jupyter-widgets/controls",
      "_view_module_version": "1.5.0",
      "_view_name": "ProgressView",
      "bar_style": "",
      "description": "",
      "description_tooltip": null,
      "layout": "IPY_MODEL_1392f59a3f094d3aa41445951462b3e3",
      "max": 7500,
      "min": 0,
      "orientation": "horizontal",
      "style": "IPY_MODEL_bef7dc1a14ad4c4097b6579ecff16680",
      "value": 7500
     }
    },
    "f0064eaf7e594c178ed07793766341b0": {
     "model_module": "@jupyter-widgets/controls",
     "model_module_version": "1.5.0",
     "model_name": "DescriptionStyleModel",
     "state": {
      "_model_module": "@jupyter-widgets/controls",
      "_model_module_version": "1.5.0",
      "_model_name": "DescriptionStyleModel",
      "_view_count": null,
      "_view_module": "@jupyter-widgets/base",
      "_view_module_version": "1.2.0",
      "_view_name": "StyleView",
      "description_width": ""
     }
    },
    "f3b59d97ac4d47b0be50fb6fe8c3ac08": {
     "model_module": "@jupyter-widgets/base",
     "model_module_version": "1.2.0",
     "model_name": "LayoutModel",
     "state": {
      "_model_module": "@jupyter-widgets/base",
      "_model_module_version": "1.2.0",
      "_model_name": "LayoutModel",
      "_view_count": null,
      "_view_module": "@jupyter-widgets/base",
      "_view_module_version": "1.2.0",
      "_view_name": "LayoutView",
      "align_content": null,
      "align_items": null,
      "align_self": null,
      "border": null,
      "bottom": null,
      "display": null,
      "flex": null,
      "flex_flow": null,
      "grid_area": null,
      "grid_auto_columns": null,
      "grid_auto_flow": null,
      "grid_auto_rows": null,
      "grid_column": null,
      "grid_gap": null,
      "grid_row": null,
      "grid_template_areas": null,
      "grid_template_columns": null,
      "grid_template_rows": null,
      "height": null,
      "justify_content": null,
      "justify_items": null,
      "left": null,
      "margin": null,
      "max_height": null,
      "max_width": null,
      "min_height": null,
      "min_width": null,
      "object_fit": null,
      "object_position": null,
      "order": null,
      "overflow": null,
      "overflow_x": null,
      "overflow_y": null,
      "padding": null,
      "right": null,
      "top": null,
      "visibility": null,
      "width": "20px"
     }
    },
    "f813354ab9fe4347ac9affe205176950": {
     "model_module": "@jupyter-widgets/base",
     "model_module_version": "1.2.0",
     "model_name": "LayoutModel",
     "state": {
      "_model_module": "@jupyter-widgets/base",
      "_model_module_version": "1.2.0",
      "_model_name": "LayoutModel",
      "_view_count": null,
      "_view_module": "@jupyter-widgets/base",
      "_view_module_version": "1.2.0",
      "_view_name": "LayoutView",
      "align_content": null,
      "align_items": null,
      "align_self": null,
      "border": null,
      "bottom": null,
      "display": null,
      "flex": null,
      "flex_flow": null,
      "grid_area": null,
      "grid_auto_columns": null,
      "grid_auto_flow": null,
      "grid_auto_rows": null,
      "grid_column": null,
      "grid_gap": null,
      "grid_row": null,
      "grid_template_areas": null,
      "grid_template_columns": null,
      "grid_template_rows": null,
      "height": null,
      "justify_content": null,
      "justify_items": null,
      "left": null,
      "margin": null,
      "max_height": null,
      "max_width": null,
      "min_height": null,
      "min_width": null,
      "object_fit": null,
      "object_position": null,
      "order": null,
      "overflow": null,
      "overflow_x": null,
      "overflow_y": null,
      "padding": null,
      "right": null,
      "top": null,
      "visibility": null,
      "width": null
     }
    },
    "fad561880d1e4e36a4ddb86b6ec979cd": {
     "model_module": "@jupyter-widgets/controls",
     "model_module_version": "1.5.0",
     "model_name": "HTMLModel",
     "state": {
      "_dom_classes": [],
      "_model_module": "@jupyter-widgets/controls",
      "_model_module_version": "1.5.0",
      "_model_name": "HTMLModel",
      "_view_count": null,
      "_view_module": "@jupyter-widgets/controls",
      "_view_module_version": "1.5.0",
      "_view_name": "HTMLView",
      "description": "",
      "description_tooltip": null,
      "layout": "IPY_MODEL_f813354ab9fe4347ac9affe205176950",
      "placeholder": "​",
      "style": "IPY_MODEL_0280a9b6257b4abea215ce3ead4dfee2",
      "value": "Extraction completed...: 100%"
     }
    },
    "fd7f3a878ce041578062c0287db5e420": {
     "model_module": "@jupyter-widgets/controls",
     "model_module_version": "1.5.0",
     "model_name": "HBoxModel",
     "state": {
      "_dom_classes": [],
      "_model_module": "@jupyter-widgets/controls",
      "_model_module_version": "1.5.0",
      "_model_name": "HBoxModel",
      "_view_count": null,
      "_view_module": "@jupyter-widgets/controls",
      "_view_module_version": "1.5.0",
      "_view_name": "HBoxView",
      "box_style": "",
      "children": [
       "IPY_MODEL_fad561880d1e4e36a4ddb86b6ec979cd",
       "IPY_MODEL_c476d00aa0d340539615f2c510cd1d04",
       "IPY_MODEL_a794eb8e75624085a06ffdae505f50c8"
      ],
      "layout": "IPY_MODEL_5af2edc636114b749f31932edf58dafe"
     }
    }
   }
  }
 },
 "nbformat": 4,
 "nbformat_minor": 4
}
